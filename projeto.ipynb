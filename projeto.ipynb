{
 "cells": [
  {
   "cell_type": "markdown",
   "metadata": {},
   "source": [
    "# Prevendo a nota da prova final de alunos\n",
    "Grupo:\n",
    "- Ariel Tamezgui Leventhal\n",
    "- André Barboza de Braga Melo\n",
    "- Victoria Leal Garcia de Souza\n",
    "- Rodrigo Anciães Patelli"
   ]
  },
  {
   "cell_type": "markdown",
   "metadata": {},
   "source": [
    "## Introdução\n",
    "Durante os últimos anos, com a vinda da pandemia e a mudança do ensino presencial para a modalidade online/à distância, houve [uma queda notável](https://www.nytimes.com/2021/06/23/us/failing-grades-covid.html) nas notas dos alunos que tiveram que se adaptar para um novo modelo de ensino. Sendo causada a queda pelo [efeito psicológico da pandemia](https://namica.org/blog/impact-on-the-mental-health-of-students-during-covid-19/), ou pela falta de ambientes de ensino apropriados para o estudo remoto, ou por qualquer outro fator, esta foi a realidade em que muitos estudantes viveram, e agora com a volta do ensino presencial aos poucos, foi despertado o interesse em descobrir quanto as circunstâncias de ensino podem afetar a nota dos alunos.\n",
    "\n",
    "Foi realizada a busca por um dataset que nos permitisse tentar prever a nota de alunos com base não só no desempenho escolar, mas também nas qualidades da escola onde estudam, porque uma das causas principais desse efeito que foi citada em [reportagens sobre o tema](https://www.washingtonpost.com/education/2020/12/06/more-students-than-ever-got-fs-first-term-2020-21-school-year-are-a-f-grades-fair-pandemic/) foi a mudança de um ambiente escolar para um ambiente residencial, e como isto foi algo que também afetou muito ao grupo como estudantes, foi formulada esta hipótese para tentar descobrir se o ambiente de ensino do estudante consegue ser tão importante assim no desempenho."
   ]
  },
  {
   "cell_type": "markdown",
   "metadata": {},
   "source": [
    "## Descrição do Dataset\n",
    "\n",
    "Foi encontrado um dataset para tentar prever a nota depois da prova final de um aluno aleatório com base nas características da escola e sua nota antes da prova, que está disponível [aqui](https://www.kaggle.com/kwadwoofosu/predict-test-scores-of-students) e ao final do relatório junto às referências bibliográficas.\n",
    "\n",
    "Primeiro, foram descritas as variáveis encontradas no dataset. Entre colchetes foi identificado o tipo da variável. As variáveis categóricas que tenham apenas 2 categorias foram chamadas de binárias pois a biblioteca utilizada para modelar o problema faz essa distinção.\n",
    "* school: código representando o nome da escola; [Qualitativa]\n",
    "* school_setting: o meio onde a escola se encontra; [Categórica]\n",
    "* school_type: se a escola é pública ou privada; [Binária]\n",
    "* classroom: código representando o tipo de sala de aula da escola; [Qualitativa]\n",
    "* teaching_method: o método de ensino empregado pela escola; [Binária]\n",
    "* n_student: número de alunos em cada sala; [Numérica e contínua]\n",
    "* student_id: código representando a matrícula de um aluno na sua escola; [Qualitativa]\n",
    "* gender: o gênero com o qual o aluno se identifica; [Binária]\n",
    "* lunch: se o aluno faz parte do programa de distribuição de merenda; [Binária]\n",
    "* pretest: a nota do aluno antes da prova final; [Numérica e contínua]\n",
    "* posttest: a nota do aluno depois da prova final; [Numérica e contínua]"
   ]
  },
  {
   "cell_type": "code",
   "execution_count": 1,
   "metadata": {},
   "outputs": [],
   "source": [
    "import pandas as pd\n",
    "import matplotlib.pyplot as plt\n",
    "import numpy as np\n",
    "import seaborn as sb\n",
    "import scipy.stats as stats\n",
    "from math import sqrt\n",
    "from sklearn.model_selection import KFold\n",
    "\n",
    "from sklearn.model_selection import cross_val_score, cross_validate\n",
    "from sklearn.metrics import mean_squared_error\n",
    "from sklearn.tree import DecisionTreeRegressor\n",
    "from sklearn.ensemble import RandomForestRegressor"
   ]
  },
  {
   "cell_type": "markdown",
   "metadata": {},
   "source": [
    "\n",
    "Abaixo, as primeiras linhas do dataset:"
   ]
  },
  {
   "cell_type": "code",
   "execution_count": 2,
   "metadata": {},
   "outputs": [],
   "source": [
    "raw_data = pd.read_csv(\"test_scores.csv\",)\n",
    "raw_data.head()\n",
    "pd.set_option('max_colwidth', 400)"
   ]
  },
  {
   "cell_type": "markdown",
   "metadata": {},
   "source": [
    "Foram removidas algumas colunas que não auxiliariam a obter algum resultado, conforme as justificativas.\n",
    "* school: não contribui na análise e foi retirada pela possibilidade de gerar ruído;\n",
    "* classroom: não foi fornecida ou encontrada qualquer descrição para o significado dos tipos de sala de aula, então foi retirada para evitar possíveis ruídos;\n",
    "* student_id: assim como a variável school, essa coluna não contribui na análise de maneira significativa mas poderia gerar muito ruído caso fosse mantida.\n",
    "\n",
    "Em seguida, as primeiras linhas novamente, sem as colunas supracitadas:"
   ]
  },
  {
   "cell_type": "code",
   "execution_count": 3,
   "metadata": {},
   "outputs": [
    {
     "data": {
      "text/html": [
       "<div>\n",
       "<style scoped>\n",
       "    .dataframe tbody tr th:only-of-type {\n",
       "        vertical-align: middle;\n",
       "    }\n",
       "\n",
       "    .dataframe tbody tr th {\n",
       "        vertical-align: top;\n",
       "    }\n",
       "\n",
       "    .dataframe thead th {\n",
       "        text-align: right;\n",
       "    }\n",
       "</style>\n",
       "<table border=\"1\" class=\"dataframe\">\n",
       "  <thead>\n",
       "    <tr style=\"text-align: right;\">\n",
       "      <th></th>\n",
       "      <th>school_setting</th>\n",
       "      <th>school_type</th>\n",
       "      <th>teaching_method</th>\n",
       "      <th>n_student</th>\n",
       "      <th>gender</th>\n",
       "      <th>lunch</th>\n",
       "      <th>pretest</th>\n",
       "      <th>posttest</th>\n",
       "    </tr>\n",
       "  </thead>\n",
       "  <tbody>\n",
       "    <tr>\n",
       "      <th>0</th>\n",
       "      <td>Urban</td>\n",
       "      <td>Non-public</td>\n",
       "      <td>Standard</td>\n",
       "      <td>20.0</td>\n",
       "      <td>Female</td>\n",
       "      <td>Does not qualify</td>\n",
       "      <td>62.0</td>\n",
       "      <td>72.0</td>\n",
       "    </tr>\n",
       "    <tr>\n",
       "      <th>1</th>\n",
       "      <td>Urban</td>\n",
       "      <td>Non-public</td>\n",
       "      <td>Standard</td>\n",
       "      <td>20.0</td>\n",
       "      <td>Female</td>\n",
       "      <td>Does not qualify</td>\n",
       "      <td>66.0</td>\n",
       "      <td>79.0</td>\n",
       "    </tr>\n",
       "    <tr>\n",
       "      <th>2</th>\n",
       "      <td>Urban</td>\n",
       "      <td>Non-public</td>\n",
       "      <td>Standard</td>\n",
       "      <td>20.0</td>\n",
       "      <td>Male</td>\n",
       "      <td>Does not qualify</td>\n",
       "      <td>64.0</td>\n",
       "      <td>76.0</td>\n",
       "    </tr>\n",
       "    <tr>\n",
       "      <th>3</th>\n",
       "      <td>Urban</td>\n",
       "      <td>Non-public</td>\n",
       "      <td>Standard</td>\n",
       "      <td>20.0</td>\n",
       "      <td>Female</td>\n",
       "      <td>Does not qualify</td>\n",
       "      <td>61.0</td>\n",
       "      <td>77.0</td>\n",
       "    </tr>\n",
       "    <tr>\n",
       "      <th>4</th>\n",
       "      <td>Urban</td>\n",
       "      <td>Non-public</td>\n",
       "      <td>Standard</td>\n",
       "      <td>20.0</td>\n",
       "      <td>Male</td>\n",
       "      <td>Does not qualify</td>\n",
       "      <td>64.0</td>\n",
       "      <td>76.0</td>\n",
       "    </tr>\n",
       "  </tbody>\n",
       "</table>\n",
       "</div>"
      ],
      "text/plain": [
       "  school_setting school_type teaching_method  n_student  gender  \\\n",
       "0          Urban  Non-public        Standard       20.0  Female   \n",
       "1          Urban  Non-public        Standard       20.0  Female   \n",
       "2          Urban  Non-public        Standard       20.0    Male   \n",
       "3          Urban  Non-public        Standard       20.0  Female   \n",
       "4          Urban  Non-public        Standard       20.0    Male   \n",
       "\n",
       "              lunch  pretest  posttest  \n",
       "0  Does not qualify     62.0      72.0  \n",
       "1  Does not qualify     66.0      79.0  \n",
       "2  Does not qualify     64.0      76.0  \n",
       "3  Does not qualify     61.0      77.0  \n",
       "4  Does not qualify     64.0      76.0  "
      ]
     },
     "execution_count": 3,
     "metadata": {},
     "output_type": "execute_result"
    }
   ],
   "source": [
    "#Pegando apenas variaveis relevantes\n",
    "f_data = raw_data.loc[:,~raw_data.columns.isin({\"school\",\"classroom\",\"student_id\"})].copy()\n",
    "f_data.head()"
   ]
  },
  {
   "cell_type": "markdown",
   "metadata": {},
   "source": [
    "Como mencionado antes, foi escolhida a variável posttest como a nossa variável target."
   ]
  },
  {
   "cell_type": "code",
   "execution_count": 4,
   "metadata": {},
   "outputs": [],
   "source": [
    "target =\"posttest\"\n",
    "features = [col for col in f_data.columns if col != target]"
   ]
  },
  {
   "cell_type": "markdown",
   "metadata": {},
   "source": [
    "As variáveis categóricas (school_setting, school_type, teaching_method, gender, lunch) do dataset estão definidas como objeto e não categoria, então foi realizada essa mudança na célula abaixo."
   ]
  },
  {
   "cell_type": "code",
   "execution_count": 5,
   "metadata": {},
   "outputs": [],
   "source": [
    "#transformando variaveis nao numericas em categoricas\n",
    "for col in f_data.columns:\n",
    "    if (f_data[col].dtype == \"object\"):\n",
    "        f_data[col] = f_data[col].astype('category')"
   ]
  },
  {
   "cell_type": "markdown",
   "metadata": {},
   "source": [
    "## Análise Exploratória\n",
    "\n",
    "### Variável Target\n",
    "Foram analisados dados sobre a distribuição das notas finais dos alunos, afim de ter uma referência das notas do nosso *sample* e obter resultados mais conclusivos na análise futura das variáveis feature.\n",
    "\n",
    "Isso foi feito de duas maneiras: descrevendo os dados numericamente, e fazendo dois gráficos que facilitam a visualização destes dados: um boxplot, e um histograma. "
   ]
  },
  {
   "cell_type": "code",
   "execution_count": 6,
   "metadata": {},
   "outputs": [
    {
     "data": {
      "text/html": [
       "<div>\n",
       "<style scoped>\n",
       "    .dataframe tbody tr th:only-of-type {\n",
       "        vertical-align: middle;\n",
       "    }\n",
       "\n",
       "    .dataframe tbody tr th {\n",
       "        vertical-align: top;\n",
       "    }\n",
       "\n",
       "    .dataframe thead th {\n",
       "        text-align: right;\n",
       "    }\n",
       "</style>\n",
       "<table border=\"1\" class=\"dataframe\">\n",
       "  <thead>\n",
       "    <tr style=\"text-align: right;\">\n",
       "      <th></th>\n",
       "      <th>posttest</th>\n",
       "    </tr>\n",
       "  </thead>\n",
       "  <tbody>\n",
       "    <tr>\n",
       "      <th>count</th>\n",
       "      <td>2133.000000</td>\n",
       "    </tr>\n",
       "    <tr>\n",
       "      <th>mean</th>\n",
       "      <td>67.102203</td>\n",
       "    </tr>\n",
       "    <tr>\n",
       "      <th>std</th>\n",
       "      <td>13.986789</td>\n",
       "    </tr>\n",
       "    <tr>\n",
       "      <th>min</th>\n",
       "      <td>32.000000</td>\n",
       "    </tr>\n",
       "    <tr>\n",
       "      <th>25%</th>\n",
       "      <td>56.000000</td>\n",
       "    </tr>\n",
       "    <tr>\n",
       "      <th>50%</th>\n",
       "      <td>68.000000</td>\n",
       "    </tr>\n",
       "    <tr>\n",
       "      <th>75%</th>\n",
       "      <td>77.000000</td>\n",
       "    </tr>\n",
       "    <tr>\n",
       "      <th>max</th>\n",
       "      <td>100.000000</td>\n",
       "    </tr>\n",
       "  </tbody>\n",
       "</table>\n",
       "</div>"
      ],
      "text/plain": [
       "          posttest\n",
       "count  2133.000000\n",
       "mean     67.102203\n",
       "std      13.986789\n",
       "min      32.000000\n",
       "25%      56.000000\n",
       "50%      68.000000\n",
       "75%      77.000000\n",
       "max     100.000000"
      ]
     },
     "execution_count": 6,
     "metadata": {},
     "output_type": "execute_result"
    }
   ],
   "source": [
    "f_data.posttest.describe().to_frame()"
   ]
  },
  {
   "cell_type": "code",
   "execution_count": 7,
   "metadata": {},
   "outputs": [
    {
     "data": {
      "image/png": "[encoded data removed]",
      "text/plain": [
       "<Figure size 432x288 with 1 Axes>"
      ]
     },
     "metadata": {
      "needs_background": "light"
     },
     "output_type": "display_data"
    }
   ],
   "source": [
    "plt.title(\"Notas dos alunos\")\n",
    "plt.boxplot(f_data.posttest, vert = False, meanline = True, showcaps = True, showbox = True,\n",
    "            showfliers = True, showmeans = True, notch = True)\n",
    "plt.show()"
   ]
  },
  {
   "cell_type": "markdown",
   "metadata": {},
   "source": [
    "Ao ver o boxplot da variável target, foi possível tirar algumas conclusões iniciais sobre o *target* com mais facilidade do que seria possível apenas com a descrição numérica. Por exemplo, é visível a distribuição populacional do *sample* conforme os quartis: há mais alunos com notas acima da média do que abaixo, o que condiz com a expectativa de que mais alunos passam de ano na escola do que não. \n",
    "\n",
    "Mais do que isso, há uma comparação entre a média (linha verde pontilhada) e a mediana (linha contínua laranja) dos dados. Os valores parecem similares numericamente mas há uma distância entre elas no boxplot que sugere que há uma concentração de alunos em torno da média dos dados, por mais que a metade superior dos dados apresente maior densidade."
   ]
  },
  {
   "cell_type": "code",
   "execution_count": 8,
   "metadata": {},
   "outputs": [],
   "source": [
    "def color_red(ax,n): #Colore parte do Histograma de vermelho\n",
    "    for i in range(len(ax.patches)):\n",
    "        if i < n:\n",
    "            ax.patches[i].set_facecolor('r')"
   ]
  },
  {
   "cell_type": "code",
   "execution_count": 9,
   "metadata": {},
   "outputs": [
    {
     "data": {
      "image/png": "[encoded data removed]",
      "text/plain": [
       "<Figure size 432x288 with 1 Axes>"
      ]
     },
     "metadata": {
      "needs_background": "light"
     },
     "output_type": "display_data"
    }
   ],
   "source": [
    "g_bins = range(30,101,5)\n",
    "ax = f_data.posttest.hist(edgecolor = 'white',bins = g_bins, density = True)\n",
    "\n",
    "color_red(ax,6)\n",
    "\n",
    "plt.title('Notas obtidas pelos alunos')\n",
    "plt.ylabel('Densidade da quantidade de alunos')\n",
    "plt.xlabel('Faixas de notas obtidas')\n",
    "plt.show()"
   ]
  },
  {
   "cell_type": "markdown",
   "metadata": {},
   "source": [
    "Também foi feito um histograma, onde foram coloridas de vermelho as barras que representam notas abaixo da média (60), e de azul as notas que significariam uma aprovação no fim do ano.\n",
    "\n",
    "Foi interessante fazer um boxplot e um histograma porque enquanto servem propósitos similares, eles dispõem a informação de maneiras que permitem diferentes conclusões a serem tiradas. O histograma diz onde fica a maior quantidade de alunos em um certo intervalo de notas - entre 70 e 75 pontos -, e permite avaliar como os dados estão distribuídos. O boxplot, no entanto, dá uma visualização mais geral do dataset, respondendo perguntas como: onde ficam os quartis em relação à média e a mediana? Elas são iguais? Como as notas estão distribuidas em relação à média e mediana?"
   ]
  },
  {
   "cell_type": "markdown",
   "metadata": {},
   "source": [
    "### Variáveis Feature\n",
    "\n",
    "Além de facilitar a visualização dos conteúdos das variáveis como foi feito com a variável *target*, também foi averiguado se existe alguma correlação entre elas, ou alguma outra variável que deveria ser retirada para evitar ruídos.\n",
    "\n",
    "Primeiro, foram construídos histogramas com base nas categorias binárias das notas dos alunos, novamente marcando as notas abaixo da média em vermelho para facilitar a visualização."
   ]
  },
  {
   "cell_type": "code",
   "execution_count": 10,
   "metadata": {},
   "outputs": [
    {
     "name": "stdout",
     "output_type": "stream",
     "text": [
      "['school_type', 'teaching_method', 'gender', 'lunch']\n"
     ]
    }
   ],
   "source": [
    "binary_cols = [col for col in f_data.columns if str(f_data[col].dtype)=='category' and len(f_data[col].cat.categories)==2]\n",
    "c = 1\n",
    "\n",
    "print(binary_cols)"
   ]
  },
  {
   "cell_type": "code",
   "execution_count": 11,
   "metadata": {},
   "outputs": [
    {
     "data": {
      "image/png": "[encoded data removed]",
      "text/plain": [
       "<Figure size 1872x1872 with 8 Axes>"
      ]
     },
     "metadata": {
      "needs_background": "light"
     },
     "output_type": "display_data"
    }
   ],
   "source": [
    "#Automaticamente gera histogrmas do target segmentados pelas variáveis binárias\n",
    "plt.figure(figsize =(26,26))\n",
    "\n",
    "for j, col in enumerate(binary_cols):\n",
    "    cats = f_data[col].cat.categories\n",
    "    for i in range(len(cats)):\n",
    "        plt.subplot(len(binary_cols),2,c)\n",
    "        plt.title(f'Histograma de nota segmentado por: {col} = {cats[i]}')\n",
    "        plt.xlabel('Faixas de notas obtidas')\n",
    "        plt.ylabel('densidade')\n",
    "        ax = f_data.loc[f_data[col] == cats[i],'posttest'].hist(edgecolor = 'white',bins = g_bins,density = True)\n",
    "        color_red(ax,6)\n",
    "        c+=1\n",
    "plt.show()"
   ]
  },
  {
   "cell_type": "markdown",
   "metadata": {},
   "source": [
    "Analisando os histogramas é possível notar que a variável gênero parece não influenciar muito o target. A distribuição do target para ambos gêneros é simétrica e a densidade das faixas nas extremidades parece ser semelhante apesar de a densidade das faixas mais próximos da media ser um pouco diferente. Para se ter informações mais concretas pode-se fazer as medidas resumo adequadas."
   ]
  },
  {
   "cell_type": "code",
   "execution_count": 12,
   "metadata": {},
   "outputs": [
    {
     "data": {
      "text/html": [
       "<style type=\"text/css\">\n",
       "#T_39042_ caption {\n",
       "  color: black;\n",
       "  font-size: 15px;\n",
       "  font-weight: bold;\n",
       "  text-align: center;\n",
       "}\n",
       "</style>\n",
       "<table id=\"T_39042_\">\n",
       "  <caption>Resumo Posttest Segmentado por Gênero</caption>\n",
       "  <thead>\n",
       "    <tr>\n",
       "      <th class=\"blank level0\" >&nbsp;</th>\n",
       "      <th class=\"col_heading level0 col0\" >count</th>\n",
       "      <th class=\"col_heading level0 col1\" >mean</th>\n",
       "      <th class=\"col_heading level0 col2\" >std</th>\n",
       "      <th class=\"col_heading level0 col3\" >min</th>\n",
       "      <th class=\"col_heading level0 col4\" >25%</th>\n",
       "      <th class=\"col_heading level0 col5\" >50%</th>\n",
       "      <th class=\"col_heading level0 col6\" >75%</th>\n",
       "      <th class=\"col_heading level0 col7\" >max</th>\n",
       "    </tr>\n",
       "    <tr>\n",
       "      <th class=\"index_name level0\" >gender</th>\n",
       "      <th class=\"blank col0\" >&nbsp;</th>\n",
       "      <th class=\"blank col1\" >&nbsp;</th>\n",
       "      <th class=\"blank col2\" >&nbsp;</th>\n",
       "      <th class=\"blank col3\" >&nbsp;</th>\n",
       "      <th class=\"blank col4\" >&nbsp;</th>\n",
       "      <th class=\"blank col5\" >&nbsp;</th>\n",
       "      <th class=\"blank col6\" >&nbsp;</th>\n",
       "      <th class=\"blank col7\" >&nbsp;</th>\n",
       "    </tr>\n",
       "  </thead>\n",
       "  <tbody>\n",
       "    <tr>\n",
       "      <th id=\"T_39042_level0_row0\" class=\"row_heading level0 row0\" >Female</th>\n",
       "      <td id=\"T_39042_row0_col0\" class=\"data row0 col0\" >1056.000000</td>\n",
       "      <td id=\"T_39042_row0_col1\" class=\"data row0 col1\" >67.004735</td>\n",
       "      <td id=\"T_39042_row0_col2\" class=\"data row0 col2\" >14.139018</td>\n",
       "      <td id=\"T_39042_row0_col3\" class=\"data row0 col3\" >32.000000</td>\n",
       "      <td id=\"T_39042_row0_col4\" class=\"data row0 col4\" >56.000000</td>\n",
       "      <td id=\"T_39042_row0_col5\" class=\"data row0 col5\" >68.000000</td>\n",
       "      <td id=\"T_39042_row0_col6\" class=\"data row0 col6\" >78.000000</td>\n",
       "      <td id=\"T_39042_row0_col7\" class=\"data row0 col7\" >100.000000</td>\n",
       "    </tr>\n",
       "    <tr>\n",
       "      <th id=\"T_39042_level0_row1\" class=\"row_heading level0 row1\" >Male</th>\n",
       "      <td id=\"T_39042_row1_col0\" class=\"data row1 col0\" >1077.000000</td>\n",
       "      <td id=\"T_39042_row1_col1\" class=\"data row1 col1\" >67.197772</td>\n",
       "      <td id=\"T_39042_row1_col2\" class=\"data row1 col2\" >13.841807</td>\n",
       "      <td id=\"T_39042_row1_col3\" class=\"data row1 col3\" >34.000000</td>\n",
       "      <td id=\"T_39042_row1_col4\" class=\"data row1 col4\" >57.000000</td>\n",
       "      <td id=\"T_39042_row1_col5\" class=\"data row1 col5\" >68.000000</td>\n",
       "      <td id=\"T_39042_row1_col6\" class=\"data row1 col6\" >77.000000</td>\n",
       "      <td id=\"T_39042_row1_col7\" class=\"data row1 col7\" >100.000000</td>\n",
       "    </tr>\n",
       "  </tbody>\n",
       "</table>\n"
      ],
      "text/plain": [
       "<pandas.io.formats.style.Styler at 0x1f08af40e80>"
      ]
     },
     "metadata": {},
     "output_type": "display_data"
    }
   ],
   "source": [
    "df = f_data.groupby('gender').describe().posttest\n",
    "\n",
    "styler = df.style.set_caption('Resumo Posttest Segmentado por Gênero').set_table_styles([{\n",
    "    'selector': 'caption',\n",
    "    'props': [\n",
    "        ('color', 'black'),\n",
    "        ('font-size', '15px'),\n",
    "        ('font-weight', 'bold'),\n",
    "        ('text-align', 'center')\n",
    "    ]\n",
    "}])\n",
    "\n",
    "display(styler)"
   ]
  },
  {
   "cell_type": "markdown",
   "metadata": {},
   "source": [
    "Analisando os valores acima, se nota que a média de notas para ambos gêneros é muito próxima, assim como o valor de todos quartis. Foi decidido remover a variável gender do modelo por não ver uma grande influência dela na nota final dos alunos."
   ]
  },
  {
   "cell_type": "code",
   "execution_count": 13,
   "metadata": {},
   "outputs": [],
   "source": [
    "f_data.drop(columns='gender',inplace=True)\n",
    "features = list(filter(lambda x: x!= 'gender', features))"
   ]
  },
  {
   "cell_type": "markdown",
   "metadata": {},
   "source": [
    "Alguns destes histogramas, comparando a distribuição entre os dois valores das variáveis binárias, ressaltam um grande impacto na nota dos alunos, como (por exemplo) se a escola é pública ou particular. Uma quantidade quase irrelevante dos estudantes de escola particular tiraram nota vermelha, enquanto uma quantidade extremamente significante dos alunos de escola pública fizeram o mesmo. Isso indica que o tipo de escola onde o aluno estuda é um forte influenciador na nota.\n",
    "\n",
    "É possível identificar uma discrepância similar ao outro caso na variável sobre o programa de distribuição de merenda, o que sugere que não é o tipo de escola que influencia mais no resultado que os estudantes apresentam, e sim a renda familiar dos alunos. Se um estudante estuda em escola pública e qualifica para o programa, há uma chance muito maior de que ele tenha nota abaixo da média do que um estudante de escola privada que não qualifique para o programa.\n",
    "\n",
    "Afim de tentar confirmar essa suspeita, tentou-se traçar um gráfico conclusivo abaixo."
   ]
  },
  {
   "cell_type": "code",
   "execution_count": 14,
   "metadata": {},
   "outputs": [],
   "source": [
    "schools = f_data.school_type.cat.categories\n",
    "lunch = f_data.lunch.cat.categories\n",
    "inters = [(schools[i], lunch[j]) for i in range(2) for j in range(2)]"
   ]
  },
  {
   "cell_type": "code",
   "execution_count": 15,
   "metadata": {},
   "outputs": [
    {
     "data": {
      "image/png": "[encoded data removed]",
      "text/plain": [
       "<Figure size 2160x720 with 4 Axes>"
      ]
     },
     "metadata": {
      "needs_background": "light"
     },
     "output_type": "display_data"
    }
   ],
   "source": [
    "plt.figure(figsize=(30,10))\n",
    "for i,inter in enumerate(inters):\n",
    "    plt.subplot(221+i)\n",
    "    plt.title(f'Histograma notas para schol_type={inter[0]} e lunch={inter[1]}')\n",
    "    ax = f_data.loc[(f_data.school_type == inter[0]) & (f_data.lunch == inter[1]),\"posttest\"].hist(edgecolor = 'white',\n",
    "                                                                                                   bins = g_bins,\n",
    "                                                                                                   density = True)\n",
    "    color_red(ax,6)\n",
    "plt.show()"
   ]
  },
  {
   "cell_type": "markdown",
   "metadata": {},
   "source": [
    "Olhando os gráficos acima, é possível ver que há sim mais alunos que qualifiquem para o programa de merenda grátis que tenham nota vermelha, tanto nas escolas públicas quanto nas privadas.\n",
    "\n",
    "Em comparação, os alunos que tiraram notas azuis são muito menos padronizados entre as quatro categorias plotadas acima. Na sua maioria, as notas dos alunos de escola privada que não tiraram nota vermelha tendem a circular entre 75 e 85 pontos se não qualificam para o programa, e 70-75 se qualificam. Já nas escolas públicas, não existe um padrão identificável fora dizer que a maioria dos alunos que qualificam para o programa de merenda grátis representam a maioria das notas vermelhas das escolas. \n",
    "\n",
    "Para tentar investigar um pouco mais sobre a possibilidade, foi construido um crosstab entre os estudantes de cada tipo de escola e quem qualifica para o programa de merenda grátis, e foi concluido que não se pode afirmar que qualificar ou não para o programa seja indicativo de notas mais ou menos altas. A maioria dos estudantes que qualificam para o programa se encontra em escolas públicas e é possível que seja este o fator determinante das notas, onde qualificar ou não para o programa seja menos relevante do que o tipo de escola onde estudam."
   ]
  },
  {
   "cell_type": "code",
   "execution_count": 16,
   "metadata": {
    "scrolled": true
   },
   "outputs": [
    {
     "data": {
      "text/html": [
       "<div>\n",
       "<style scoped>\n",
       "    .dataframe tbody tr th:only-of-type {\n",
       "        vertical-align: middle;\n",
       "    }\n",
       "\n",
       "    .dataframe tbody tr th {\n",
       "        vertical-align: top;\n",
       "    }\n",
       "\n",
       "    .dataframe thead th {\n",
       "        text-align: right;\n",
       "    }\n",
       "</style>\n",
       "<table border=\"1\" class=\"dataframe\">\n",
       "  <thead>\n",
       "    <tr style=\"text-align: right;\">\n",
       "      <th>lunch</th>\n",
       "      <th>Does not qualify</th>\n",
       "      <th>Qualifies for reduced/free lunch</th>\n",
       "    </tr>\n",
       "    <tr>\n",
       "      <th>school_type</th>\n",
       "      <th></th>\n",
       "      <th></th>\n",
       "    </tr>\n",
       "  </thead>\n",
       "  <tbody>\n",
       "    <tr>\n",
       "      <th>Non-public</th>\n",
       "      <td>32.3</td>\n",
       "      <td>17.2</td>\n",
       "    </tr>\n",
       "    <tr>\n",
       "      <th>Public</th>\n",
       "      <td>67.7</td>\n",
       "      <td>82.8</td>\n",
       "    </tr>\n",
       "  </tbody>\n",
       "</table>\n",
       "</div>"
      ],
      "text/plain": [
       "lunch        Does not qualify  Qualifies for reduced/free lunch\n",
       "school_type                                                    \n",
       "Non-public               32.3                              17.2\n",
       "Public                   67.7                              82.8"
      ]
     },
     "execution_count": 16,
     "metadata": {},
     "output_type": "execute_result"
    }
   ],
   "source": [
    "pd.crosstab(f_data.school_type,f_data.lunch,normalize='columns').round(3)*100"
   ]
  },
  {
   "cell_type": "markdown",
   "metadata": {},
   "source": [
    "Foi decido também explorar a possibilidade da renda ser um fator determinante forte das notas dos alunos, mas como não foi possível encontrar os requerimentos para qualificar para o programa de merenda grátis, não se pode afirmar que seja este o caso com certeza.\n",
    "\n",
    "Seria desejável entrar em mais detalhe nesta parte da análise exploratória em uma futura iteração do modelo onde houvesse mais informação sobre o programa de merenda grátis e a demografia das escolas públicas e particulares, porém para esta iteração o grupo está satisfeito em dizer que há forte indicação de que um dos fatores principais na nota dos alunos é realmente a renda.\n",
    "\n",
    "Para as variáveis categóricas e numéricas foi decidido usar crosstabs pois fazer histogramas segmentados resultaria em muita poluição visual, atrapalhando o entendimento. Foi usado o mesmo intervalo de 5 pontos para *target* como foi usado nos histogramas anteriores."
   ]
  },
  {
   "cell_type": "code",
   "execution_count": 17,
   "metadata": {},
   "outputs": [
    {
     "data": {
      "text/html": [
       "<div>\n",
       "<style scoped>\n",
       "    .dataframe tbody tr th:only-of-type {\n",
       "        vertical-align: middle;\n",
       "    }\n",
       "\n",
       "    .dataframe tbody tr th {\n",
       "        vertical-align: top;\n",
       "    }\n",
       "\n",
       "    .dataframe thead th {\n",
       "        text-align: right;\n",
       "    }\n",
       "</style>\n",
       "<table border=\"1\" class=\"dataframe\">\n",
       "  <thead>\n",
       "    <tr style=\"text-align: right;\">\n",
       "      <th>school_setting</th>\n",
       "      <th>Rural</th>\n",
       "      <th>Suburban</th>\n",
       "      <th>Urban</th>\n",
       "    </tr>\n",
       "    <tr>\n",
       "      <th>posttest</th>\n",
       "      <th></th>\n",
       "      <th></th>\n",
       "      <th></th>\n",
       "    </tr>\n",
       "  </thead>\n",
       "  <tbody>\n",
       "    <tr>\n",
       "      <th>(30, 35]</th>\n",
       "      <td>0.0</td>\n",
       "      <td>0.0</td>\n",
       "      <td>0.3</td>\n",
       "    </tr>\n",
       "    <tr>\n",
       "      <th>(35, 40]</th>\n",
       "      <td>3.1</td>\n",
       "      <td>0.0</td>\n",
       "      <td>1.2</td>\n",
       "    </tr>\n",
       "    <tr>\n",
       "      <th>(40, 45]</th>\n",
       "      <td>8.0</td>\n",
       "      <td>0.0</td>\n",
       "      <td>5.8</td>\n",
       "    </tr>\n",
       "    <tr>\n",
       "      <th>(45, 50]</th>\n",
       "      <td>3.9</td>\n",
       "      <td>0.6</td>\n",
       "      <td>15.5</td>\n",
       "    </tr>\n",
       "    <tr>\n",
       "      <th>(50, 55]</th>\n",
       "      <td>9.2</td>\n",
       "      <td>2.5</td>\n",
       "      <td>16.9</td>\n",
       "    </tr>\n",
       "    <tr>\n",
       "      <th>(55, 60]</th>\n",
       "      <td>15.1</td>\n",
       "      <td>6.0</td>\n",
       "      <td>13.7</td>\n",
       "    </tr>\n",
       "    <tr>\n",
       "      <th>(60, 65]</th>\n",
       "      <td>8.0</td>\n",
       "      <td>9.1</td>\n",
       "      <td>12.3</td>\n",
       "    </tr>\n",
       "    <tr>\n",
       "      <th>(65, 70]</th>\n",
       "      <td>15.5</td>\n",
       "      <td>14.6</td>\n",
       "      <td>9.6</td>\n",
       "    </tr>\n",
       "    <tr>\n",
       "      <th>(70, 75]</th>\n",
       "      <td>18.8</td>\n",
       "      <td>16.2</td>\n",
       "      <td>6.1</td>\n",
       "    </tr>\n",
       "    <tr>\n",
       "      <th>(75, 80]</th>\n",
       "      <td>12.4</td>\n",
       "      <td>16.3</td>\n",
       "      <td>7.8</td>\n",
       "    </tr>\n",
       "    <tr>\n",
       "      <th>(80, 85]</th>\n",
       "      <td>5.3</td>\n",
       "      <td>12.1</td>\n",
       "      <td>5.0</td>\n",
       "    </tr>\n",
       "    <tr>\n",
       "      <th>(85, 90]</th>\n",
       "      <td>0.6</td>\n",
       "      <td>9.9</td>\n",
       "      <td>2.4</td>\n",
       "    </tr>\n",
       "    <tr>\n",
       "      <th>(90, 95]</th>\n",
       "      <td>0.0</td>\n",
       "      <td>11.3</td>\n",
       "      <td>1.4</td>\n",
       "    </tr>\n",
       "    <tr>\n",
       "      <th>(95, 100]</th>\n",
       "      <td>0.0</td>\n",
       "      <td>1.4</td>\n",
       "      <td>2.0</td>\n",
       "    </tr>\n",
       "  </tbody>\n",
       "</table>\n",
       "</div>"
      ],
      "text/plain": [
       "school_setting  Rural  Suburban  Urban\n",
       "posttest                              \n",
       "(30, 35]          0.0       0.0    0.3\n",
       "(35, 40]          3.1       0.0    1.2\n",
       "(40, 45]          8.0       0.0    5.8\n",
       "(45, 50]          3.9       0.6   15.5\n",
       "(50, 55]          9.2       2.5   16.9\n",
       "(55, 60]         15.1       6.0   13.7\n",
       "(60, 65]          8.0       9.1   12.3\n",
       "(65, 70]         15.5      14.6    9.6\n",
       "(70, 75]         18.8      16.2    6.1\n",
       "(75, 80]         12.4      16.3    7.8\n",
       "(80, 85]          5.3      12.1    5.0\n",
       "(85, 90]          0.6       9.9    2.4\n",
       "(90, 95]          0.0      11.3    1.4\n",
       "(95, 100]         0.0       1.4    2.0"
      ]
     },
     "execution_count": 17,
     "metadata": {},
     "output_type": "execute_result"
    }
   ],
   "source": [
    "binned_grades = pd.cut(f_data.posttest, bins=g_bins)\n",
    "(pd.crosstab(binned_grades,f_data.school_setting,normalize=\"columns\")*100).round(1)"
   ]
  },
  {
   "cell_type": "code",
   "execution_count": 18,
   "metadata": {},
   "outputs": [
    {
     "data": {
      "text/html": [
       "<div>\n",
       "<style scoped>\n",
       "    .dataframe tbody tr th:only-of-type {\n",
       "        vertical-align: middle;\n",
       "    }\n",
       "\n",
       "    .dataframe tbody tr th {\n",
       "        vertical-align: top;\n",
       "    }\n",
       "\n",
       "    .dataframe thead th {\n",
       "        text-align: right;\n",
       "    }\n",
       "</style>\n",
       "<table border=\"1\" class=\"dataframe\">\n",
       "  <thead>\n",
       "    <tr style=\"text-align: right;\">\n",
       "      <th>n_student</th>\n",
       "      <th>(10, 15]</th>\n",
       "      <th>(15, 20]</th>\n",
       "      <th>(20, 25]</th>\n",
       "      <th>(25, 30]</th>\n",
       "      <th>(30, 35]</th>\n",
       "    </tr>\n",
       "    <tr>\n",
       "      <th>posttest</th>\n",
       "      <th></th>\n",
       "      <th></th>\n",
       "      <th></th>\n",
       "      <th></th>\n",
       "      <th></th>\n",
       "    </tr>\n",
       "  </thead>\n",
       "  <tbody>\n",
       "    <tr>\n",
       "      <th>(30, 35]</th>\n",
       "      <td>0.0</td>\n",
       "      <td>0.0</td>\n",
       "      <td>0.0</td>\n",
       "      <td>0.5</td>\n",
       "      <td>0.0</td>\n",
       "    </tr>\n",
       "    <tr>\n",
       "      <th>(35, 40]</th>\n",
       "      <td>0.0</td>\n",
       "      <td>0.0</td>\n",
       "      <td>2.1</td>\n",
       "      <td>1.4</td>\n",
       "      <td>0.0</td>\n",
       "    </tr>\n",
       "    <tr>\n",
       "      <th>(40, 45]</th>\n",
       "      <td>0.0</td>\n",
       "      <td>0.0</td>\n",
       "      <td>7.0</td>\n",
       "      <td>5.5</td>\n",
       "      <td>0.0</td>\n",
       "    </tr>\n",
       "    <tr>\n",
       "      <th>(45, 50]</th>\n",
       "      <td>0.0</td>\n",
       "      <td>1.1</td>\n",
       "      <td>7.8</td>\n",
       "      <td>15.7</td>\n",
       "      <td>0.0</td>\n",
       "    </tr>\n",
       "    <tr>\n",
       "      <th>(50, 55]</th>\n",
       "      <td>0.0</td>\n",
       "      <td>5.7</td>\n",
       "      <td>8.5</td>\n",
       "      <td>17.1</td>\n",
       "      <td>41.9</td>\n",
       "    </tr>\n",
       "    <tr>\n",
       "      <th>(55, 60]</th>\n",
       "      <td>0.0</td>\n",
       "      <td>8.8</td>\n",
       "      <td>9.2</td>\n",
       "      <td>16.9</td>\n",
       "      <td>51.6</td>\n",
       "    </tr>\n",
       "    <tr>\n",
       "      <th>(60, 65]</th>\n",
       "      <td>1.4</td>\n",
       "      <td>5.7</td>\n",
       "      <td>7.6</td>\n",
       "      <td>20.1</td>\n",
       "      <td>6.5</td>\n",
       "    </tr>\n",
       "    <tr>\n",
       "      <th>(65, 70]</th>\n",
       "      <td>16.4</td>\n",
       "      <td>10.3</td>\n",
       "      <td>15.1</td>\n",
       "      <td>11.6</td>\n",
       "      <td>0.0</td>\n",
       "    </tr>\n",
       "    <tr>\n",
       "      <th>(70, 75]</th>\n",
       "      <td>26.0</td>\n",
       "      <td>20.0</td>\n",
       "      <td>11.1</td>\n",
       "      <td>6.2</td>\n",
       "      <td>0.0</td>\n",
       "    </tr>\n",
       "    <tr>\n",
       "      <th>(75, 80]</th>\n",
       "      <td>43.8</td>\n",
       "      <td>18.2</td>\n",
       "      <td>10.5</td>\n",
       "      <td>3.7</td>\n",
       "      <td>0.0</td>\n",
       "    </tr>\n",
       "    <tr>\n",
       "      <th>(80, 85]</th>\n",
       "      <td>12.3</td>\n",
       "      <td>15.2</td>\n",
       "      <td>6.3</td>\n",
       "      <td>1.2</td>\n",
       "      <td>0.0</td>\n",
       "    </tr>\n",
       "    <tr>\n",
       "      <th>(85, 90]</th>\n",
       "      <td>0.0</td>\n",
       "      <td>8.3</td>\n",
       "      <td>5.4</td>\n",
       "      <td>0.0</td>\n",
       "      <td>0.0</td>\n",
       "    </tr>\n",
       "    <tr>\n",
       "      <th>(90, 95]</th>\n",
       "      <td>0.0</td>\n",
       "      <td>3.7</td>\n",
       "      <td>8.1</td>\n",
       "      <td>0.0</td>\n",
       "      <td>0.0</td>\n",
       "    </tr>\n",
       "    <tr>\n",
       "      <th>(95, 100]</th>\n",
       "      <td>0.0</td>\n",
       "      <td>3.0</td>\n",
       "      <td>1.2</td>\n",
       "      <td>0.0</td>\n",
       "      <td>0.0</td>\n",
       "    </tr>\n",
       "  </tbody>\n",
       "</table>\n",
       "</div>"
      ],
      "text/plain": [
       "n_student  (10, 15]  (15, 20]  (20, 25]  (25, 30]  (30, 35]\n",
       "posttest                                                   \n",
       "(30, 35]        0.0       0.0       0.0       0.5       0.0\n",
       "(35, 40]        0.0       0.0       2.1       1.4       0.0\n",
       "(40, 45]        0.0       0.0       7.0       5.5       0.0\n",
       "(45, 50]        0.0       1.1       7.8      15.7       0.0\n",
       "(50, 55]        0.0       5.7       8.5      17.1      41.9\n",
       "(55, 60]        0.0       8.8       9.2      16.9      51.6\n",
       "(60, 65]        1.4       5.7       7.6      20.1       6.5\n",
       "(65, 70]       16.4      10.3      15.1      11.6       0.0\n",
       "(70, 75]       26.0      20.0      11.1       6.2       0.0\n",
       "(75, 80]       43.8      18.2      10.5       3.7       0.0\n",
       "(80, 85]       12.3      15.2       6.3       1.2       0.0\n",
       "(85, 90]        0.0       8.3       5.4       0.0       0.0\n",
       "(90, 95]        0.0       3.7       8.1       0.0       0.0\n",
       "(95, 100]       0.0       3.0       1.2       0.0       0.0"
      ]
     },
     "execution_count": 18,
     "metadata": {},
     "output_type": "execute_result"
    }
   ],
   "source": [
    "(pd.crosstab(binned_grades,pd.cut(f_data.n_student,bins=range(10,36,5)),normalize=\"columns\")*100).round(1)"
   ]
  },
  {
   "cell_type": "markdown",
   "metadata": {},
   "source": [
    "## Preparação para Modelar\n",
    "Na célula abaixo, as variáveis categóricas e binárias foram alteradas para valores que sejam utilizáveis pelos modelos, mantendo as variáveis numéricas. Variáveis binárias foram convertidas para ter 1 e -1 como possíveis valores, enquanto as categóricas foram convertidas para terem os valores 1, 2, 3, ..., n onde n é o número de categorias."
   ]
  },
  {
   "cell_type": "code",
   "execution_count": 19,
   "metadata": {},
   "outputs": [
    {
     "name": "stdout",
     "output_type": "stream",
     "text": [
      "{'school_setting': {'Rural': 0, 'Suburban': 1, 'Urban': 2}, 'school_type': {'Non-public': -1, 'Public': 1}, 'teaching_method': {'Experimental': -1, 'Standard': 1}, 'lunch': {'Does not qualify': -1, 'Qualifies for reduced/free lunch': 1}}\n"
     ]
    },
    {
     "data": {
      "text/html": [
       "<div>\n",
       "<style scoped>\n",
       "    .dataframe tbody tr th:only-of-type {\n",
       "        vertical-align: middle;\n",
       "    }\n",
       "\n",
       "    .dataframe tbody tr th {\n",
       "        vertical-align: top;\n",
       "    }\n",
       "\n",
       "    .dataframe thead th {\n",
       "        text-align: right;\n",
       "    }\n",
       "</style>\n",
       "<table border=\"1\" class=\"dataframe\">\n",
       "  <thead>\n",
       "    <tr style=\"text-align: right;\">\n",
       "      <th></th>\n",
       "      <th>school_setting</th>\n",
       "      <th>school_type</th>\n",
       "      <th>teaching_method</th>\n",
       "      <th>n_student</th>\n",
       "      <th>lunch</th>\n",
       "      <th>pretest</th>\n",
       "      <th>posttest</th>\n",
       "    </tr>\n",
       "  </thead>\n",
       "  <tbody>\n",
       "    <tr>\n",
       "      <th>0</th>\n",
       "      <td>2</td>\n",
       "      <td>-1</td>\n",
       "      <td>1</td>\n",
       "      <td>20.0</td>\n",
       "      <td>-1</td>\n",
       "      <td>62.0</td>\n",
       "      <td>72.0</td>\n",
       "    </tr>\n",
       "    <tr>\n",
       "      <th>1</th>\n",
       "      <td>2</td>\n",
       "      <td>-1</td>\n",
       "      <td>1</td>\n",
       "      <td>20.0</td>\n",
       "      <td>-1</td>\n",
       "      <td>66.0</td>\n",
       "      <td>79.0</td>\n",
       "    </tr>\n",
       "    <tr>\n",
       "      <th>2</th>\n",
       "      <td>2</td>\n",
       "      <td>-1</td>\n",
       "      <td>1</td>\n",
       "      <td>20.0</td>\n",
       "      <td>-1</td>\n",
       "      <td>64.0</td>\n",
       "      <td>76.0</td>\n",
       "    </tr>\n",
       "    <tr>\n",
       "      <th>3</th>\n",
       "      <td>2</td>\n",
       "      <td>-1</td>\n",
       "      <td>1</td>\n",
       "      <td>20.0</td>\n",
       "      <td>-1</td>\n",
       "      <td>61.0</td>\n",
       "      <td>77.0</td>\n",
       "    </tr>\n",
       "    <tr>\n",
       "      <th>4</th>\n",
       "      <td>2</td>\n",
       "      <td>-1</td>\n",
       "      <td>1</td>\n",
       "      <td>20.0</td>\n",
       "      <td>-1</td>\n",
       "      <td>64.0</td>\n",
       "      <td>76.0</td>\n",
       "    </tr>\n",
       "  </tbody>\n",
       "</table>\n",
       "</div>"
      ],
      "text/plain": [
       "  school_setting school_type teaching_method  n_student lunch  pretest  \\\n",
       "0              2          -1               1       20.0    -1     62.0   \n",
       "1              2          -1               1       20.0    -1     66.0   \n",
       "2              2          -1               1       20.0    -1     64.0   \n",
       "3              2          -1               1       20.0    -1     61.0   \n",
       "4              2          -1               1       20.0    -1     64.0   \n",
       "\n",
       "   posttest  \n",
       "0      72.0  \n",
       "1      79.0  \n",
       "2      76.0  \n",
       "3      77.0  \n",
       "4      76.0  "
      ]
     },
     "execution_count": 19,
     "metadata": {},
     "output_type": "execute_result"
    }
   ],
   "source": [
    "#Automaticamente transforma variáveis categóricas e binárias em valores que podem ser usados pelo modelo\n",
    "data = f_data.copy()\n",
    "categories = dict()\n",
    "\n",
    "for col in data.columns:\n",
    "    if str(data[col].dtype) != \"category\": #Series numericas nao sao alteradas\n",
    "        continue\n",
    "    if len(cats := data[col].cat.categories) == 2:\n",
    "        #Series com 2 categorias viram -1 e 1\n",
    "        #(de acordo com recomendação para variáveis binárias da documentação do sklearn)\n",
    "        categories[col] = {cats[0]:-1,cats[1]:1}\n",
    "    else:\n",
    "        #Series com número de categorias = n e n>2 viram 1, 2, 3, ..., n\n",
    "        #(também de acordo com documentação)\n",
    "        categories[col] = {cats[i]:i for i in range(len(cats))}\n",
    "    data[col] = data[col].apply(lambda x: categories[col][x])\n",
    "\n",
    "print(categories)\n",
    "data.head()"
   ]
  },
  {
   "cell_type": "markdown",
   "metadata": {},
   "source": [
    "## Aplicando Modelos de Tomada de Decisão\n",
    "                                        \n",
    "A partir da análise exploratória feita, foi obtida uma ideia muito mais consolidada dos fatores que podem influenciar a nota dos alunos, então foi iniciado o teste de alguns modelos de predição. Para isso foram escolhidos para este projeto os modelos Decision Tree e Random Forest.\n",
    "\n",
    "### Decision Tree\n",
    "O primeiro modelo que foi escolhido é o modelo de Decision Tree, que foi usado para fazer uma regressão. Ele é um dos modelos de *machine learning* mais usados por ser simples de entender, e não depender dos dados serem lineares ou não para funcionar, além de ter a possibilidade de ser ambos um regressor como foi empregado neste projeto ou um classificador. Por permitir o uso de um dataset misto com variáveis categóricas e numéricas para fazer uma regressão, foi escolhido como o primeiro modelo do projeto.\n",
    "\n",
    "O modelo funciona por meio de tomadas de decisão a partir dos dados de teste, fazendo splits nos dados para tentar aumentar a pureza deles em relação à variável target. Começando a partir da *root* da árvore, o modelo vai gerando mais e mais *branches* fazendo uma série de perguntas de resposta Verdadeiro ou Falso para afunilar os valores possíveis de predição até que se encontre o melhor.\n",
    "\n",
    "### Random Forest\n",
    "Assim como o modelo Decision Tree, o segundo modelo escolhido - Random Forest - também é um modelo de *machine learning* bastante popular, e pelos mesmos motivos: usá-lo significa muita simplicidade em gerar um resultado razoável ou bom, podendo usar um dataset com variáveis mistas entre categóricas e numéricas, e ainda sendo um regressor ou mesmo um classificador. O motivo pela semelhança entre os dois modelos é que Random Forest é uma série de Decision Trees treinadas usando uma técnica chamada *bagging*. *Bagging* estima predições com base na árvore atual do modelo para gerar outra de maneira que se aumente a pureza da predição quanto à variável target, tornando o modelo Random Forest virtualmente um modelo de Decision Tree mais treinado."
   ]
  },
  {
   "cell_type": "code",
   "execution_count": 20,
   "metadata": {},
   "outputs": [
    {
     "data": {
      "text/html": [
       "<div>\n",
       "<style scoped>\n",
       "    .dataframe tbody tr th:only-of-type {\n",
       "        vertical-align: middle;\n",
       "    }\n",
       "\n",
       "    .dataframe tbody tr th {\n",
       "        vertical-align: top;\n",
       "    }\n",
       "\n",
       "    .dataframe thead th {\n",
       "        text-align: right;\n",
       "    }\n",
       "</style>\n",
       "<table border=\"1\" class=\"dataframe\">\n",
       "  <thead>\n",
       "    <tr style=\"text-align: right;\">\n",
       "      <th></th>\n",
       "      <th>school_setting</th>\n",
       "      <th>school_type</th>\n",
       "      <th>teaching_method</th>\n",
       "      <th>n_student</th>\n",
       "      <th>lunch</th>\n",
       "      <th>pretest</th>\n",
       "      <th>posttest</th>\n",
       "      <th>prediction_tree</th>\n",
       "      <th>prediction_forest</th>\n",
       "    </tr>\n",
       "  </thead>\n",
       "  <tbody>\n",
       "    <tr>\n",
       "      <th>1400</th>\n",
       "      <td>1</td>\n",
       "      <td>1</td>\n",
       "      <td>1</td>\n",
       "      <td>22.0</td>\n",
       "      <td>-1</td>\n",
       "      <td>63.0</td>\n",
       "      <td>75.0</td>\n",
       "      <td>69.0</td>\n",
       "      <td>69.934500</td>\n",
       "    </tr>\n",
       "    <tr>\n",
       "      <th>1401</th>\n",
       "      <td>1</td>\n",
       "      <td>1</td>\n",
       "      <td>1</td>\n",
       "      <td>22.0</td>\n",
       "      <td>-1</td>\n",
       "      <td>59.0</td>\n",
       "      <td>70.0</td>\n",
       "      <td>67.0</td>\n",
       "      <td>66.930190</td>\n",
       "    </tr>\n",
       "    <tr>\n",
       "      <th>1402</th>\n",
       "      <td>1</td>\n",
       "      <td>1</td>\n",
       "      <td>1</td>\n",
       "      <td>22.0</td>\n",
       "      <td>-1</td>\n",
       "      <td>64.0</td>\n",
       "      <td>70.0</td>\n",
       "      <td>68.0</td>\n",
       "      <td>69.860000</td>\n",
       "    </tr>\n",
       "    <tr>\n",
       "      <th>1403</th>\n",
       "      <td>1</td>\n",
       "      <td>1</td>\n",
       "      <td>1</td>\n",
       "      <td>22.0</td>\n",
       "      <td>-1</td>\n",
       "      <td>64.0</td>\n",
       "      <td>69.0</td>\n",
       "      <td>68.0</td>\n",
       "      <td>69.860000</td>\n",
       "    </tr>\n",
       "    <tr>\n",
       "      <th>1404</th>\n",
       "      <td>1</td>\n",
       "      <td>1</td>\n",
       "      <td>1</td>\n",
       "      <td>22.0</td>\n",
       "      <td>-1</td>\n",
       "      <td>60.0</td>\n",
       "      <td>70.0</td>\n",
       "      <td>69.0</td>\n",
       "      <td>68.732333</td>\n",
       "    </tr>\n",
       "  </tbody>\n",
       "</table>\n",
       "</div>"
      ],
      "text/plain": [
       "     school_setting school_type teaching_method  n_student lunch  pretest  \\\n",
       "1400              1           1               1       22.0    -1     63.0   \n",
       "1401              1           1               1       22.0    -1     59.0   \n",
       "1402              1           1               1       22.0    -1     64.0   \n",
       "1403              1           1               1       22.0    -1     64.0   \n",
       "1404              1           1               1       22.0    -1     60.0   \n",
       "\n",
       "      posttest  prediction_tree  prediction_forest  \n",
       "1400      75.0             69.0          69.934500  \n",
       "1401      70.0             67.0          66.930190  \n",
       "1402      70.0             68.0          69.860000  \n",
       "1403      69.0             68.0          69.860000  \n",
       "1404      70.0             69.0          68.732333  "
      ]
     },
     "execution_count": 20,
     "metadata": {},
     "output_type": "execute_result"
    }
   ],
   "source": [
    "# Separa o df em train e test, com teste de 1/3\n",
    "train, test =(data.iloc[:1400].copy(), data.iloc[1400:].copy())\n",
    "\n",
    "tree = DecisionTreeRegressor()\n",
    "forest = RandomForestRegressor()\n",
    "\n",
    "tree.fit(train.drop(columns=[\"posttest\"]),train.posttest)\n",
    "forest.fit(train.drop(columns=[\"posttest\"]),train.posttest)\n",
    "\n",
    "test[\"prediction_tree\"] = tree.predict(test.drop(columns=[\"posttest\"]))\n",
    "test[\"prediction_forest\"] = forest.predict(test.drop(columns=[\"posttest\",\"prediction_tree\"]))\n",
    "\n",
    "test.head()"
   ]
  },
  {
   "cell_type": "markdown",
   "metadata": {},
   "source": [
    "## Testando a performance dos modelos\n",
    "\n",
    "Após o treinamento dos modelos e predições aplicadas ao dataset de teste, é necessário também fazer comparativos e análises de eficiência, com o objetivo de averiguar a eficácia do modelo e se eles realmente foram escolhas adequadas.\n",
    "\n",
    "Como um primeiro teste, foi feito um scatterplot para cada modelo com os dados reais no eixo x e os previstos no eixo y, conforme pode ser visto abaixo. A reta F(x)=x também foi adicionada, representando onde os pontos estariam posicionados caso o modelo fosse 100% preciso em usas predições."
   ]
  },
  {
   "cell_type": "code",
   "execution_count": 21,
   "metadata": {},
   "outputs": [
    {
     "data": {
      "image/png": "[encoded data removed]",
      "text/plain": [
       "<Figure size 2160x720 with 2 Axes>"
      ]
     },
     "metadata": {
      "needs_background": "light"
     },
     "output_type": "display_data"
    }
   ],
   "source": [
    "fig = plt.figure(figsize=(30,10))\n",
    "\n",
    "for title,col,i in zip([\"(Modelo: Decision Tree)\",\"(Modelo: Random Forest)\"],\n",
    "                       [test.prediction_tree,test.prediction_forest],range(2)):\n",
    "    plt.subplot(121+i)\n",
    "    plt.title(f'Target x Previsão de Target {title}')\n",
    "    plt.xlabel('Valor real da nota')\n",
    "    plt.ylabel('Valor obtido pela previsão')\n",
    "    plt.plot([20,105],[20,105],label='F(x)=x',color='orange',zorder=1)\n",
    "    plt.scatter(test.posttest,col,zorder=2)\n",
    "    plt.legend()\n",
    "fig.suptitle('Dataset ordenado por nome de escola', fontsize=16)\n",
    "\n",
    "plt.show()"
   ]
  },
  {
   "cell_type": "markdown",
   "metadata": {},
   "source": [
    "O plot feito acima revela boa proximidade dos pontos com a reta, o que sugere uma boa correlação entre os dados reais e as predições.\n",
    "\n",
    "Com o objetivo de determinar o quão eficiente o modelo realmente é, foi utilizada a função `.score()`, que mostra o coeficiente de determinação (R²) do teste, cujo valor máximo é 1 e mostra a correlação entre o teste e os valores reais, sendo o valor 1 o mais correlacionado possível."
   ]
  },
  {
   "cell_type": "code",
   "execution_count": 22,
   "metadata": {},
   "outputs": [
    {
     "name": "stdout",
     "output_type": "stream",
     "text": [
      "score tree: 0.8819981345907417\n",
      "score forest: 0.9217282984187938\n"
     ]
    }
   ],
   "source": [
    "print(f'score tree: {tree.score(test.loc[:,features],test.loc[:,target])}')\n",
    "print(f'score forest: {forest.score(test.loc[:,features],test.loc[:,target])}')"
   ]
  },
  {
   "cell_type": "markdown",
   "metadata": {},
   "source": [
    "Abaixo também foi calculado o RMSE (*Root Mean Square Error*, em inglês) de cada modelo com o objetivo de analisar o valor da incerteza relacionada aos resultados, levando em conta seus erros."
   ]
  },
  {
   "cell_type": "code",
   "execution_count": 23,
   "metadata": {},
   "outputs": [
    {
     "name": "stdout",
     "output_type": "stream",
     "text": [
      "RMSE forest: 5.4701921813714085\n",
      "RMSE forest: 4.455131584325664\n"
     ]
    }
   ],
   "source": [
    "print(f'RMSE forest: {mean_squared_error(test.loc[:,target],test.loc[:,\"prediction_tree\"],squared=False)}')\n",
    "print(f'RMSE forest: {mean_squared_error(test.loc[:,target],test.loc[:,\"prediction_forest\"],squared=False)}')"
   ]
  },
  {
   "cell_type": "markdown",
   "metadata": {},
   "source": [
    "Foi hipotetizado que a ordem na qual o modelo foi divido poderia estar afetando os resulatdos, agrupando todos os alunos de uma única escola e assim inviesando a predição com base nas escolas. Para averiguar se estavam ordenados, foi feito um print da coluna da indentificação da escola do dataset original antes de remover esta variável."
   ]
  },
  {
   "cell_type": "code",
   "execution_count": 24,
   "metadata": {
    "scrolled": true
   },
   "outputs": [
    {
     "name": "stdout",
     "output_type": "stream",
     "text": [
      "['ANKYI', 'ANKYI', 'ANKYI', 'ANKYI', 'ANKYI', 'ANKYI', 'ANKYI', 'ANKYI', 'ANKYI', 'ANKYI', 'ANKYI', 'ANKYI', 'ANKYI', 'ANKYI', 'ANKYI', 'ANKYI', 'ANKYI', 'ANKYI', 'ANKYI', 'ANKYI', 'ANKYI', 'ANKYI', 'ANKYI', 'ANKYI', 'ANKYI', 'ANKYI', 'ANKYI', 'ANKYI', 'ANKYI', 'ANKYI', 'ANKYI', 'ANKYI', 'ANKYI', 'ANKYI', 'ANKYI', 'ANKYI', 'ANKYI', 'ANKYI', 'ANKYI', 'ANKYI', 'ANKYI', 'CCAAW', 'CCAAW', 'CCAAW', 'CCAAW', 'CCAAW', 'CCAAW', 'CCAAW', 'CCAAW', 'CCAAW', 'CCAAW', 'CCAAW', 'CCAAW', 'CCAAW', 'CCAAW', 'CCAAW', 'CCAAW', 'CCAAW', 'CCAAW', 'CCAAW', 'CCAAW', 'CCAAW', 'CCAAW', 'CCAAW', 'CCAAW', 'CCAAW', 'CCAAW', 'CCAAW', 'CCAAW', 'CCAAW', 'CCAAW', 'CCAAW', 'CCAAW', 'CCAAW', 'CCAAW', 'CCAAW', 'CCAAW', 'CCAAW', 'CCAAW', 'CCAAW', 'CCAAW', 'CCAAW', 'CCAAW', 'CCAAW', 'CCAAW', 'CCAAW', 'CCAAW', 'CCAAW', 'CCAAW', 'CCAAW', 'CCAAW', 'CCAAW', 'CCAAW', 'CCAAW', 'CCAAW', 'CCAAW', 'CCAAW', 'CCAAW', 'CCAAW', 'CCAAW', 'CCAAW', 'CCAAW', 'CCAAW', 'CCAAW', 'CCAAW', 'CCAAW', 'CCAAW', 'CCAAW', 'CCAAW', 'CCAAW', 'CCAAW', 'CCAAW', 'CCAAW', 'CCAAW', 'CCAAW', 'CCAAW', 'CCAAW', 'CCAAW', 'CCAAW', 'CCAAW', 'CCAAW', 'CCAAW', 'CCAAW', 'CCAAW', 'CCAAW', 'CCAAW', 'CCAAW', 'CCAAW', 'CCAAW', 'CCAAW', 'CCAAW', 'CCAAW', 'CCAAW', 'CCAAW', 'CCAAW', 'CCAAW', 'CCAAW', 'CCAAW', 'CCAAW', 'CCAAW', 'CCAAW', 'CCAAW', 'CCAAW', 'CCAAW', 'CCAAW', 'CCAAW', 'CCAAW', 'CCAAW', 'CCAAW', 'CCAAW', 'CIMBB', 'CIMBB', 'CIMBB', 'CIMBB', 'CIMBB', 'CIMBB', 'CIMBB', 'CIMBB', 'CIMBB', 'CIMBB', 'CIMBB', 'CIMBB', 'CIMBB', 'CIMBB', 'CIMBB', 'CIMBB', 'CIMBB', 'CIMBB', 'CIMBB', 'CIMBB', 'CIMBB', 'CIMBB', 'CIMBB', 'CIMBB', 'CIMBB', 'CIMBB', 'CIMBB', 'CIMBB', 'CIMBB', 'CIMBB', 'CIMBB', 'CIMBB', 'CIMBB', 'CIMBB', 'CIMBB', 'CIMBB', 'CIMBB', 'CIMBB', 'CIMBB', 'CIMBB', 'CIMBB', 'CIMBB', 'CIMBB', 'CIMBB', 'CIMBB', 'CIMBB', 'CIMBB', 'CIMBB', 'CIMBB', 'CIMBB']\n"
     ]
    }
   ],
   "source": [
    "print(raw_data.school.to_list()[:200])"
   ]
  },
  {
   "cell_type": "markdown",
   "metadata": {},
   "source": [
    "Confirmado que os dados estão ordenados por noome de escola, foi chegada à conclusão de que a divisão entre teste e treinamento foi realizada de maneira que invezasse o modelo ao deixar alunos da mesma escola ou só no treinamento ou só no teste, afetando a performance negativamente. Por isso, foi decidido por refazer a divisão entre o treinamento e o teste, porém embaralhando as linhas do dataset de maneira que separassem os alunos de cada escola."
   ]
  },
  {
   "cell_type": "code",
   "execution_count": 25,
   "metadata": {
    "scrolled": true
   },
   "outputs": [
    {
     "data": {
      "text/html": [
       "<div>\n",
       "<style scoped>\n",
       "    .dataframe tbody tr th:only-of-type {\n",
       "        vertical-align: middle;\n",
       "    }\n",
       "\n",
       "    .dataframe tbody tr th {\n",
       "        vertical-align: top;\n",
       "    }\n",
       "\n",
       "    .dataframe thead th {\n",
       "        text-align: right;\n",
       "    }\n",
       "</style>\n",
       "<table border=\"1\" class=\"dataframe\">\n",
       "  <thead>\n",
       "    <tr style=\"text-align: right;\">\n",
       "      <th></th>\n",
       "      <th>school_setting</th>\n",
       "      <th>school_type</th>\n",
       "      <th>teaching_method</th>\n",
       "      <th>n_student</th>\n",
       "      <th>lunch</th>\n",
       "      <th>pretest</th>\n",
       "      <th>posttest</th>\n",
       "      <th>prediction_tree</th>\n",
       "      <th>prediction_forest</th>\n",
       "    </tr>\n",
       "  </thead>\n",
       "  <tbody>\n",
       "    <tr>\n",
       "      <th>1400</th>\n",
       "      <td>0</td>\n",
       "      <td>-1</td>\n",
       "      <td>-1</td>\n",
       "      <td>18.0</td>\n",
       "      <td>1</td>\n",
       "      <td>63.0</td>\n",
       "      <td>84.0</td>\n",
       "      <td>76.000000</td>\n",
       "      <td>77.718056</td>\n",
       "    </tr>\n",
       "    <tr>\n",
       "      <th>1401</th>\n",
       "      <td>0</td>\n",
       "      <td>1</td>\n",
       "      <td>1</td>\n",
       "      <td>22.0</td>\n",
       "      <td>1</td>\n",
       "      <td>30.0</td>\n",
       "      <td>42.0</td>\n",
       "      <td>40.333333</td>\n",
       "      <td>40.345095</td>\n",
       "    </tr>\n",
       "    <tr>\n",
       "      <th>1402</th>\n",
       "      <td>1</td>\n",
       "      <td>1</td>\n",
       "      <td>-1</td>\n",
       "      <td>23.0</td>\n",
       "      <td>-1</td>\n",
       "      <td>75.0</td>\n",
       "      <td>94.0</td>\n",
       "      <td>91.000000</td>\n",
       "      <td>90.923667</td>\n",
       "    </tr>\n",
       "    <tr>\n",
       "      <th>1403</th>\n",
       "      <td>0</td>\n",
       "      <td>1</td>\n",
       "      <td>1</td>\n",
       "      <td>22.0</td>\n",
       "      <td>1</td>\n",
       "      <td>42.0</td>\n",
       "      <td>56.0</td>\n",
       "      <td>53.500000</td>\n",
       "      <td>53.591214</td>\n",
       "    </tr>\n",
       "    <tr>\n",
       "      <th>1404</th>\n",
       "      <td>1</td>\n",
       "      <td>-1</td>\n",
       "      <td>1</td>\n",
       "      <td>21.0</td>\n",
       "      <td>-1</td>\n",
       "      <td>76.0</td>\n",
       "      <td>85.0</td>\n",
       "      <td>80.000000</td>\n",
       "      <td>80.973333</td>\n",
       "    </tr>\n",
       "  </tbody>\n",
       "</table>\n",
       "</div>"
      ],
      "text/plain": [
       "     school_setting school_type teaching_method  n_student lunch  pretest  \\\n",
       "1400              0          -1              -1       18.0     1     63.0   \n",
       "1401              0           1               1       22.0     1     30.0   \n",
       "1402              1           1              -1       23.0    -1     75.0   \n",
       "1403              0           1               1       22.0     1     42.0   \n",
       "1404              1          -1               1       21.0    -1     76.0   \n",
       "\n",
       "      posttest  prediction_tree  prediction_forest  \n",
       "1400      84.0        76.000000          77.718056  \n",
       "1401      42.0        40.333333          40.345095  \n",
       "1402      94.0        91.000000          90.923667  \n",
       "1403      56.0        53.500000          53.591214  \n",
       "1404      85.0        80.000000          80.973333  "
      ]
     },
     "execution_count": 25,
     "metadata": {},
     "output_type": "execute_result"
    }
   ],
   "source": [
    "r_data = data.sample(frac=1, random_state=13077, ignore_index=True)\n",
    "\n",
    "# Separa o df em train e test, com teste de 1/3\n",
    "r_train, r_test =(r_data.iloc[:1400].copy(), r_data.iloc[1400:].copy())\n",
    "\n",
    "r_tree = DecisionTreeRegressor()\n",
    "r_forest = RandomForestRegressor()\n",
    "\n",
    "r_tree.fit(r_train.loc[:,features],r_train.posttest)\n",
    "r_forest.fit(r_train.loc[:,features],r_train.posttest)\n",
    "\n",
    "r_test[\"prediction_tree\"] = r_tree.predict(r_test.loc[:,features])\n",
    "r_test[\"prediction_forest\"] = r_forest.predict(r_test.loc[:,features])\n",
    "\n",
    "r_test.head()"
   ]
  },
  {
   "cell_type": "markdown",
   "metadata": {},
   "source": [
    "## Testando a performance dos modelos\n",
    "\n",
    "Os testes de eficiência realizados usaram os modelos embaralhados, começando com a re-plotagem dos scatterplots feitos anteriormente:"
   ]
  },
  {
   "cell_type": "code",
   "execution_count": 26,
   "metadata": {},
   "outputs": [
    {
     "data": {
      "image/png": "[encoded data removed]",
      "text/plain": [
       "<Figure size 2160x720 with 2 Axes>"
      ]
     },
     "metadata": {
      "needs_background": "light"
     },
     "output_type": "display_data"
    }
   ],
   "source": [
    "fig = plt.figure(figsize=(30,10))\n",
    "\n",
    "for title,col,i in zip([\"(Modelo: Decision Tree)\",\"(Modelo: Random Forest)\"],\n",
    "                       [r_test.prediction_tree,r_test.prediction_forest],range(2)):\n",
    "    plt.subplot(121+i)\n",
    "    plt.title(f'Target x Previsão de Target {title}')\n",
    "    plt.xlabel('Valor real da nota')\n",
    "    plt.ylabel('Valor obtido pela previsão')\n",
    "    plt.plot([20,105],[20,105],label='F(x)=x',color='orange',zorder=1)\n",
    "    plt.scatter(r_test.posttest,col,zorder=2)\n",
    "    plt.legend()\n",
    "fig.suptitle('Dataset com Ordem Aleatorizada', fontsize=16)\n",
    "\n",
    "plt.show()"
   ]
  },
  {
   "cell_type": "markdown",
   "metadata": {},
   "source": [
    "Através deste plot parece ser possível concluir que embaralhar as linhas do dataset melhora consideravelmente a sua eficácia, que será visualizada numericamente nas próximas células.\n",
    "\n",
    "## Obtendo o valor de R² para a previsão obtida\n",
    "### R² do Decision Tree\n",
    "Extraindo o R² da predição por Decision Tree embaralhada:"
   ]
  },
  {
   "cell_type": "code",
   "execution_count": 27,
   "metadata": {},
   "outputs": [
    {
     "data": {
      "text/plain": [
       "0.9728238263228448"
      ]
     },
     "execution_count": 27,
     "metadata": {},
     "output_type": "execute_result"
    }
   ],
   "source": [
    "r_tree.score(test.loc[:,features],test.loc[:,target])"
   ]
  },
  {
   "cell_type": "markdown",
   "metadata": {},
   "source": [
    "### R² do Random Forest\n",
    "Extraindo o R² da predição por Random Forest embaralhada:"
   ]
  },
  {
   "cell_type": "code",
   "execution_count": 28,
   "metadata": {
    "scrolled": true
   },
   "outputs": [
    {
     "data": {
      "text/plain": [
       "0.9747849057928865"
      ]
     },
     "execution_count": 28,
     "metadata": {},
     "output_type": "execute_result"
    }
   ],
   "source": [
    "r_forest.score(test.loc[:,features],test.loc[:,target])"
   ]
  },
  {
   "cell_type": "markdown",
   "metadata": {},
   "source": [
    "### RMSE de ambos modelos\n",
    "\n",
    "Extraindo o RMSE de ambos as predições dos modelos embaralhados:"
   ]
  },
  {
   "cell_type": "code",
   "execution_count": 29,
   "metadata": {},
   "outputs": [
    {
     "name": "stdout",
     "output_type": "stream",
     "text": [
      "RMSE forest: 3.7237643876291315\n",
      "RMSE forest: 3.291401416496991\n"
     ]
    }
   ],
   "source": [
    "print(f'RMSE forest: {mean_squared_error(r_test.loc[:,target],r_test.loc[:,\"prediction_tree\"],squared=False)}')\n",
    "print(f'RMSE forest: {mean_squared_error(r_test.loc[:,target],r_test.loc[:,\"prediction_forest\"],squared=False)}')"
   ]
  },
  {
   "cell_type": "markdown",
   "metadata": {},
   "source": [
    "Foi possível verificar uma clara melhora em relação ao modelos anteriores pois o coeficiente de determinação (R²) aumentou e o erro médio diminuiu. Em seguida foi feita a validação cruzada para melhor validar os modelos.\n",
    "\n",
    "## Validação Cruzada\n",
    "A validação cruzada consiste em redividir o dataset em subsets de treino e teste várias vezes, e verificar a performance do modelo treinado com essas diferentes iterações. Neste projeto, ela foi feita com a estratégia KFold, que consiste em dividir o dataset em n pedaços e realizar n iterações do modelo. A cada iteração, um dos pedaços será usado como teste e os outros combinados serão usados como treino. Foram feitas 10 iterações de cada modelo, ou seja, n=10.\n",
    "\n",
    "### Predição com Decision Tree"
   ]
  },
  {
   "cell_type": "code",
   "execution_count": 30,
   "metadata": {},
   "outputs": [
    {
     "data": {
      "text/html": [
       "<div>\n",
       "<style scoped>\n",
       "    .dataframe tbody tr th:only-of-type {\n",
       "        vertical-align: middle;\n",
       "    }\n",
       "\n",
       "    .dataframe tbody tr th {\n",
       "        vertical-align: top;\n",
       "    }\n",
       "\n",
       "    .dataframe thead th {\n",
       "        text-align: right;\n",
       "    }\n",
       "</style>\n",
       "<table border=\"1\" class=\"dataframe\">\n",
       "  <thead>\n",
       "    <tr style=\"text-align: right;\">\n",
       "      <th></th>\n",
       "      <th>fit_time</th>\n",
       "      <th>score_time</th>\n",
       "      <th>test_r2</th>\n",
       "      <th>test_neg_root_mean_squared_error</th>\n",
       "    </tr>\n",
       "  </thead>\n",
       "  <tbody>\n",
       "    <tr>\n",
       "      <th>0</th>\n",
       "      <td>0.005952</td>\n",
       "      <td>0.002480</td>\n",
       "      <td>0.917760</td>\n",
       "      <td>-3.988760</td>\n",
       "    </tr>\n",
       "    <tr>\n",
       "      <th>1</th>\n",
       "      <td>0.004499</td>\n",
       "      <td>0.002477</td>\n",
       "      <td>0.943906</td>\n",
       "      <td>-3.561971</td>\n",
       "    </tr>\n",
       "    <tr>\n",
       "      <th>2</th>\n",
       "      <td>0.004466</td>\n",
       "      <td>0.001486</td>\n",
       "      <td>0.932003</td>\n",
       "      <td>-3.549943</td>\n",
       "    </tr>\n",
       "    <tr>\n",
       "      <th>3</th>\n",
       "      <td>0.003968</td>\n",
       "      <td>0.001986</td>\n",
       "      <td>0.913445</td>\n",
       "      <td>-3.948696</td>\n",
       "    </tr>\n",
       "    <tr>\n",
       "      <th>4</th>\n",
       "      <td>0.003968</td>\n",
       "      <td>0.001982</td>\n",
       "      <td>0.933169</td>\n",
       "      <td>-3.783795</td>\n",
       "    </tr>\n",
       "    <tr>\n",
       "      <th>5</th>\n",
       "      <td>0.003968</td>\n",
       "      <td>0.001986</td>\n",
       "      <td>0.930899</td>\n",
       "      <td>-3.817664</td>\n",
       "    </tr>\n",
       "    <tr>\n",
       "      <th>6</th>\n",
       "      <td>0.004462</td>\n",
       "      <td>0.001488</td>\n",
       "      <td>0.935959</td>\n",
       "      <td>-3.669993</td>\n",
       "    </tr>\n",
       "    <tr>\n",
       "      <th>7</th>\n",
       "      <td>0.003968</td>\n",
       "      <td>0.001493</td>\n",
       "      <td>0.933350</td>\n",
       "      <td>-3.621070</td>\n",
       "    </tr>\n",
       "    <tr>\n",
       "      <th>8</th>\n",
       "      <td>0.003964</td>\n",
       "      <td>0.001489</td>\n",
       "      <td>0.932381</td>\n",
       "      <td>-3.429100</td>\n",
       "    </tr>\n",
       "    <tr>\n",
       "      <th>9</th>\n",
       "      <td>0.003968</td>\n",
       "      <td>0.001493</td>\n",
       "      <td>0.923847</td>\n",
       "      <td>-3.482903</td>\n",
       "    </tr>\n",
       "  </tbody>\n",
       "</table>\n",
       "</div>"
      ],
      "text/plain": [
       "   fit_time  score_time   test_r2  test_neg_root_mean_squared_error\n",
       "0  0.005952    0.002480  0.917760                         -3.988760\n",
       "1  0.004499    0.002477  0.943906                         -3.561971\n",
       "2  0.004466    0.001486  0.932003                         -3.549943\n",
       "3  0.003968    0.001986  0.913445                         -3.948696\n",
       "4  0.003968    0.001982  0.933169                         -3.783795\n",
       "5  0.003968    0.001986  0.930899                         -3.817664\n",
       "6  0.004462    0.001488  0.935959                         -3.669993\n",
       "7  0.003968    0.001493  0.933350                         -3.621070\n",
       "8  0.003964    0.001489  0.932381                         -3.429100\n",
       "9  0.003968    0.001493  0.923847                         -3.482903"
      ]
     },
     "execution_count": 30,
     "metadata": {},
     "output_type": "execute_result"
    }
   ],
   "source": [
    "crss_val_tree = pd.DataFrame(cross_validate(r_tree,r_data.loc[:,features],r_data.loc[:,target],\n",
    "                                            scoring=['r2','neg_root_mean_squared_error'],cv=KFold(n_splits=10)))\n",
    "crss_val_tree"
   ]
  },
  {
   "cell_type": "markdown",
   "metadata": {},
   "source": [
    "#### Obtendo valores de R² e RMSE médios\n",
    "Com base nos resultados da validação cruzada foi plotada também uma tabela que contém o desvio padrão e a média dos resultados do R² e da média dos erros quadrados, com objetivo de analisar a performance média esperada do modelo de previsão."
   ]
  },
  {
   "cell_type": "code",
   "execution_count": 31,
   "metadata": {},
   "outputs": [
    {
     "data": {
      "text/html": [
       "<div>\n",
       "<style scoped>\n",
       "    .dataframe tbody tr th:only-of-type {\n",
       "        vertical-align: middle;\n",
       "    }\n",
       "\n",
       "    .dataframe tbody tr th {\n",
       "        vertical-align: top;\n",
       "    }\n",
       "\n",
       "    .dataframe thead th {\n",
       "        text-align: right;\n",
       "    }\n",
       "</style>\n",
       "<table border=\"1\" class=\"dataframe\">\n",
       "  <thead>\n",
       "    <tr style=\"text-align: right;\">\n",
       "      <th></th>\n",
       "      <th>R²</th>\n",
       "      <th>RMSE</th>\n",
       "    </tr>\n",
       "  </thead>\n",
       "  <tbody>\n",
       "    <tr>\n",
       "      <th>std</th>\n",
       "      <td>0.008952</td>\n",
       "      <td>0.192406</td>\n",
       "    </tr>\n",
       "    <tr>\n",
       "      <th>mean</th>\n",
       "      <td>0.929672</td>\n",
       "      <td>-3.685390</td>\n",
       "    </tr>\n",
       "  </tbody>\n",
       "</table>\n",
       "</div>"
      ],
      "text/plain": [
       "            R²      RMSE\n",
       "std   0.008952  0.192406\n",
       "mean  0.929672 -3.685390"
      ]
     },
     "execution_count": 31,
     "metadata": {},
     "output_type": "execute_result"
    }
   ],
   "source": [
    "crss_val_tree.loc[:,[\"test_r2\",\"test_neg_root_mean_squared_error\"]].describe().loc[[\"std\",\"mean\"]].rename(\n",
    "    columns={\"test_r2\":\"R²\",\"test_neg_root_mean_squared_error\":\"RMSE\"})"
   ]
  },
  {
   "cell_type": "markdown",
   "metadata": {},
   "source": [
    "### Predição com Random Forest"
   ]
  },
  {
   "cell_type": "code",
   "execution_count": 32,
   "metadata": {},
   "outputs": [
    {
     "data": {
      "text/html": [
       "<div>\n",
       "<style scoped>\n",
       "    .dataframe tbody tr th:only-of-type {\n",
       "        vertical-align: middle;\n",
       "    }\n",
       "\n",
       "    .dataframe tbody tr th {\n",
       "        vertical-align: top;\n",
       "    }\n",
       "\n",
       "    .dataframe thead th {\n",
       "        text-align: right;\n",
       "    }\n",
       "</style>\n",
       "<table border=\"1\" class=\"dataframe\">\n",
       "  <thead>\n",
       "    <tr style=\"text-align: right;\">\n",
       "      <th></th>\n",
       "      <th>fit_time</th>\n",
       "      <th>score_time</th>\n",
       "      <th>test_r2</th>\n",
       "      <th>test_neg_root_mean_squared_error</th>\n",
       "    </tr>\n",
       "  </thead>\n",
       "  <tbody>\n",
       "    <tr>\n",
       "      <th>0</th>\n",
       "      <td>0.232657</td>\n",
       "      <td>0.010412</td>\n",
       "      <td>0.928698</td>\n",
       "      <td>-3.714026</td>\n",
       "    </tr>\n",
       "    <tr>\n",
       "      <th>1</th>\n",
       "      <td>0.224687</td>\n",
       "      <td>0.010916</td>\n",
       "      <td>0.956745</td>\n",
       "      <td>-3.127878</td>\n",
       "    </tr>\n",
       "    <tr>\n",
       "      <th>2</th>\n",
       "      <td>0.232619</td>\n",
       "      <td>0.010917</td>\n",
       "      <td>0.947010</td>\n",
       "      <td>-3.133830</td>\n",
       "    </tr>\n",
       "    <tr>\n",
       "      <th>3</th>\n",
       "      <td>0.235103</td>\n",
       "      <td>0.010912</td>\n",
       "      <td>0.932291</td>\n",
       "      <td>-3.492460</td>\n",
       "    </tr>\n",
       "    <tr>\n",
       "      <th>4</th>\n",
       "      <td>0.224692</td>\n",
       "      <td>0.010908</td>\n",
       "      <td>0.953472</td>\n",
       "      <td>-3.157150</td>\n",
       "    </tr>\n",
       "    <tr>\n",
       "      <th>5</th>\n",
       "      <td>0.224189</td>\n",
       "      <td>0.010416</td>\n",
       "      <td>0.944904</td>\n",
       "      <td>-3.408914</td>\n",
       "    </tr>\n",
       "    <tr>\n",
       "      <th>6</th>\n",
       "      <td>0.227136</td>\n",
       "      <td>0.010451</td>\n",
       "      <td>0.946769</td>\n",
       "      <td>-3.345963</td>\n",
       "    </tr>\n",
       "    <tr>\n",
       "      <th>7</th>\n",
       "      <td>0.239074</td>\n",
       "      <td>0.010910</td>\n",
       "      <td>0.950967</td>\n",
       "      <td>-3.105853</td>\n",
       "    </tr>\n",
       "    <tr>\n",
       "      <th>8</th>\n",
       "      <td>0.222208</td>\n",
       "      <td>0.010416</td>\n",
       "      <td>0.940508</td>\n",
       "      <td>-3.216424</td>\n",
       "    </tr>\n",
       "    <tr>\n",
       "      <th>9</th>\n",
       "      <td>0.222214</td>\n",
       "      <td>0.010416</td>\n",
       "      <td>0.937558</td>\n",
       "      <td>-3.153815</td>\n",
       "    </tr>\n",
       "  </tbody>\n",
       "</table>\n",
       "</div>"
      ],
      "text/plain": [
       "   fit_time  score_time   test_r2  test_neg_root_mean_squared_error\n",
       "0  0.232657    0.010412  0.928698                         -3.714026\n",
       "1  0.224687    0.010916  0.956745                         -3.127878\n",
       "2  0.232619    0.010917  0.947010                         -3.133830\n",
       "3  0.235103    0.010912  0.932291                         -3.492460\n",
       "4  0.224692    0.010908  0.953472                         -3.157150\n",
       "5  0.224189    0.010416  0.944904                         -3.408914\n",
       "6  0.227136    0.010451  0.946769                         -3.345963\n",
       "7  0.239074    0.010910  0.950967                         -3.105853\n",
       "8  0.222208    0.010416  0.940508                         -3.216424\n",
       "9  0.222214    0.010416  0.937558                         -3.153815"
      ]
     },
     "execution_count": 32,
     "metadata": {},
     "output_type": "execute_result"
    }
   ],
   "source": [
    "crss_val_forest = pd.DataFrame(cross_validate(r_forest,r_data.loc[:,features],r_data.loc[:,target],\n",
    "                                              scoring=['r2','neg_root_mean_squared_error'],cv=KFold(n_splits=10)))\n",
    "crss_val_forest"
   ]
  },
  {
   "cell_type": "markdown",
   "metadata": {},
   "source": [
    "#### Obtendo valores de R² e RMSE médios"
   ]
  },
  {
   "cell_type": "code",
   "execution_count": 33,
   "metadata": {},
   "outputs": [
    {
     "data": {
      "text/html": [
       "<div>\n",
       "<style scoped>\n",
       "    .dataframe tbody tr th:only-of-type {\n",
       "        vertical-align: middle;\n",
       "    }\n",
       "\n",
       "    .dataframe tbody tr th {\n",
       "        vertical-align: top;\n",
       "    }\n",
       "\n",
       "    .dataframe thead th {\n",
       "        text-align: right;\n",
       "    }\n",
       "</style>\n",
       "<table border=\"1\" class=\"dataframe\">\n",
       "  <thead>\n",
       "    <tr style=\"text-align: right;\">\n",
       "      <th></th>\n",
       "      <th>R²</th>\n",
       "      <th>RMSE</th>\n",
       "    </tr>\n",
       "  </thead>\n",
       "  <tbody>\n",
       "    <tr>\n",
       "      <th>std</th>\n",
       "      <td>0.009086</td>\n",
       "      <td>0.201125</td>\n",
       "    </tr>\n",
       "    <tr>\n",
       "      <th>mean</th>\n",
       "      <td>0.943892</td>\n",
       "      <td>-3.285631</td>\n",
       "    </tr>\n",
       "  </tbody>\n",
       "</table>\n",
       "</div>"
      ],
      "text/plain": [
       "            R²      RMSE\n",
       "std   0.009086  0.201125\n",
       "mean  0.943892 -3.285631"
      ]
     },
     "execution_count": 33,
     "metadata": {},
     "output_type": "execute_result"
    }
   ],
   "source": [
    "crss_val_forest.loc[:,[\"test_r2\",\"test_neg_root_mean_squared_error\"]].describe().loc[[\"std\",\"mean\"]].rename(\n",
    "    columns={\"test_r2\":\"R²\",\"test_neg_root_mean_squared_error\":\"RMSE\"})"
   ]
  },
  {
   "cell_type": "markdown",
   "metadata": {},
   "source": [
    "Analisando os resultados, os modelos preveem com boa precisão a nota final dos alunos. Tanto o R² quanto o RMSE da predição com Decision Tree apontam que o modelo é ligeiramente menos preciso do que a feita com Random Forest. Isso era um resultado esperado, visto que o modelo Random Forest funciona de maneira muito parecida com o Decision Tree, como foi explicado anteriormente. \n",
    "\n",
    "A diferença de performance é muito pequena analisando apenas a primeira iteração dos modelos, mas ao analisar a validação cruzada é possível ver que essa performance maior do Random Forest é consistente nas 10 iterações do modelo, visto que o R² permanece consistentemente maior que o do Decision Tree e o RSME menor que o do Decision Tree também."
   ]
  },
  {
   "cell_type": "markdown",
   "metadata": {},
   "source": [
    "## Conclusão\n",
    "\n",
    "Para melhor responder a pergunta a respeito da influencia do ambiente de ensino nas notas, foi decidido testar se o modelo também funcionaria de maneira razoável sem o uso da *feature* `pretest`, que representa a nota do aluno antes a prova final. Ao utilizar apenas informações sobre o contexto escolar, é possível estimar qual o impacto que o ambiente escolar tem sobre o desempenho dos estudantes de forma que permita aceitar ou rejeitar a hipótese original de que o ambiente escolar tem forte influência nas notas obtidas pelos estudantes.\n",
    "\n",
    "Nas células abaixo foram repetidos os processos de treinamento e validação como feito para os modelos anteriores, retirando a *feature* `pretest`."
   ]
  },
  {
   "cell_type": "code",
   "execution_count": 34,
   "metadata": {},
   "outputs": [
    {
     "data": {
      "text/html": [
       "<div>\n",
       "<style scoped>\n",
       "    .dataframe tbody tr th:only-of-type {\n",
       "        vertical-align: middle;\n",
       "    }\n",
       "\n",
       "    .dataframe tbody tr th {\n",
       "        vertical-align: top;\n",
       "    }\n",
       "\n",
       "    .dataframe thead th {\n",
       "        text-align: right;\n",
       "    }\n",
       "</style>\n",
       "<table border=\"1\" class=\"dataframe\">\n",
       "  <thead>\n",
       "    <tr style=\"text-align: right;\">\n",
       "      <th></th>\n",
       "      <th>school_setting</th>\n",
       "      <th>school_type</th>\n",
       "      <th>teaching_method</th>\n",
       "      <th>n_student</th>\n",
       "      <th>lunch</th>\n",
       "      <th>posttest</th>\n",
       "      <th>prediction_tree</th>\n",
       "      <th>prediction_forest</th>\n",
       "    </tr>\n",
       "  </thead>\n",
       "  <tbody>\n",
       "    <tr>\n",
       "      <th>1400</th>\n",
       "      <td>0</td>\n",
       "      <td>-1</td>\n",
       "      <td>-1</td>\n",
       "      <td>18.0</td>\n",
       "      <td>1</td>\n",
       "      <td>84.0</td>\n",
       "      <td>82.000000</td>\n",
       "      <td>81.861524</td>\n",
       "    </tr>\n",
       "    <tr>\n",
       "      <th>1401</th>\n",
       "      <td>0</td>\n",
       "      <td>1</td>\n",
       "      <td>1</td>\n",
       "      <td>22.0</td>\n",
       "      <td>1</td>\n",
       "      <td>42.0</td>\n",
       "      <td>48.382353</td>\n",
       "      <td>48.270874</td>\n",
       "    </tr>\n",
       "    <tr>\n",
       "      <th>1402</th>\n",
       "      <td>1</td>\n",
       "      <td>1</td>\n",
       "      <td>-1</td>\n",
       "      <td>23.0</td>\n",
       "      <td>-1</td>\n",
       "      <td>94.0</td>\n",
       "      <td>90.000000</td>\n",
       "      <td>89.921620</td>\n",
       "    </tr>\n",
       "    <tr>\n",
       "      <th>1403</th>\n",
       "      <td>0</td>\n",
       "      <td>1</td>\n",
       "      <td>1</td>\n",
       "      <td>22.0</td>\n",
       "      <td>1</td>\n",
       "      <td>56.0</td>\n",
       "      <td>48.382353</td>\n",
       "      <td>48.270874</td>\n",
       "    </tr>\n",
       "    <tr>\n",
       "      <th>1404</th>\n",
       "      <td>1</td>\n",
       "      <td>-1</td>\n",
       "      <td>1</td>\n",
       "      <td>21.0</td>\n",
       "      <td>-1</td>\n",
       "      <td>85.0</td>\n",
       "      <td>83.333333</td>\n",
       "      <td>83.664041</td>\n",
       "    </tr>\n",
       "  </tbody>\n",
       "</table>\n",
       "</div>"
      ],
      "text/plain": [
       "     school_setting school_type teaching_method  n_student lunch  posttest  \\\n",
       "1400              0          -1              -1       18.0     1      84.0   \n",
       "1401              0           1               1       22.0     1      42.0   \n",
       "1402              1           1              -1       23.0    -1      94.0   \n",
       "1403              0           1               1       22.0     1      56.0   \n",
       "1404              1          -1               1       21.0    -1      85.0   \n",
       "\n",
       "      prediction_tree  prediction_forest  \n",
       "1400        82.000000          81.861524  \n",
       "1401        48.382353          48.270874  \n",
       "1402        90.000000          89.921620  \n",
       "1403        48.382353          48.270874  \n",
       "1404        83.333333          83.664041  "
      ]
     },
     "execution_count": 34,
     "metadata": {},
     "output_type": "execute_result"
    }
   ],
   "source": [
    "data2 = r_data.drop(columns=\"pretest\")\n",
    "\n",
    "# Separa o df em train e test, com teste de 1/3\n",
    "train2, test2 =(data2.iloc[:1400].copy(), data2.iloc[1400:].copy())\n",
    "\n",
    "tree2 = DecisionTreeRegressor()\n",
    "forest2 = RandomForestRegressor()\n",
    "\n",
    "tree2.fit(train2.drop(columns=[\"posttest\"]),train2.posttest)\n",
    "forest2.fit(train2.drop(columns=[\"posttest\"]),train2.posttest)\n",
    "\n",
    "test2[\"prediction_tree\"] = tree2.predict(test2.drop(columns=[\"posttest\"]))\n",
    "test2[\"prediction_forest\"] = forest2.predict(test2.drop(columns=[\"posttest\",\"prediction_tree\"]))\n",
    "\n",
    "test2.head()"
   ]
  },
  {
   "cell_type": "code",
   "execution_count": 35,
   "metadata": {},
   "outputs": [
    {
     "data": {
      "image/png": "[encoded data removed]",
      "text/plain": [
       "<Figure size 2160x720 with 2 Axes>"
      ]
     },
     "metadata": {
      "needs_background": "light"
     },
     "output_type": "display_data"
    }
   ],
   "source": [
    "fig = plt.figure(figsize=(30,10))\n",
    "\n",
    "for title,col,i in zip([\"(modelo: decision tree)\",\"(modelo: random forest)\"],\n",
    "                       [test2.prediction_tree,test2.prediction_forest],range(2)):\n",
    "    plt.subplot(121+i)\n",
    "    plt.title(f'Target x Previsão de Target {title}')\n",
    "    plt.xlabel('Valor real da nota')\n",
    "    plt.ylabel('Valor obtido pela previsão')\n",
    "    plt.plot([20,105],[20,105],label='F(x)=x',color='orange',zorder=1)\n",
    "    plt.scatter(test2.posttest,col,zorder=2)\n",
    "    plt.legend()\n",
    "fig.suptitle('Dataset ordenado aleatorianent sem nota pretest', fontsize=16)\n",
    "\n",
    "plt.show()"
   ]
  },
  {
   "cell_type": "code",
   "execution_count": 36,
   "metadata": {},
   "outputs": [
    {
     "name": "stdout",
     "output_type": "stream",
     "text": [
      "Score Decision Tree: 0.8694048086119398\n",
      "Score Random Forest: 0.8691533450635422\n",
      "RMSE Decision Tree: 4.872750473974642\n",
      "RMSE Random Forest: 4.877439505151614\n"
     ]
    }
   ],
   "source": [
    "features2 = list(filter(lambda x: x!='pretest',features))\n",
    "\n",
    "print(f'Score Decision Tree: {tree2.score(test2.loc[:,features2],test2.loc[:,target])}')\n",
    "print(f'Score Random Forest: {forest2.score(test2.loc[:,features2],test2.loc[:,target])}')\n",
    "print(f'RMSE Decision Tree: {mean_squared_error(test2.loc[:,target],test2.loc[:,\"prediction_tree\"],squared=False)}')\n",
    "print(f'RMSE Random Forest: {mean_squared_error(test2.loc[:,target],test2.loc[:,\"prediction_forest\"],squared=False)}')"
   ]
  },
  {
   "cell_type": "code",
   "execution_count": 37,
   "metadata": {},
   "outputs": [
    {
     "data": {
      "text/html": [
       "<style type=\"text/css\">\n",
       "</style>\n",
       "<table id=\"T_00b0e_\">\n",
       "  <caption>Coeficientes Médios por Decision Tree</caption>\n",
       "  <thead>\n",
       "    <tr>\n",
       "      <th class=\"blank level0\" >&nbsp;</th>\n",
       "      <th class=\"col_heading level0 col0\" >R²</th>\n",
       "      <th class=\"col_heading level0 col1\" >RMSE</th>\n",
       "    </tr>\n",
       "  </thead>\n",
       "  <tbody>\n",
       "    <tr>\n",
       "      <th id=\"T_00b0e_level0_row0\" class=\"row_heading level0 row0\" >std</th>\n",
       "      <td id=\"T_00b0e_row0_col0\" class=\"data row0 col0\" >0.018219</td>\n",
       "      <td id=\"T_00b0e_row0_col1\" class=\"data row0 col1\" >0.484821</td>\n",
       "    </tr>\n",
       "    <tr>\n",
       "      <th id=\"T_00b0e_level0_row1\" class=\"row_heading level0 row1\" >mean</th>\n",
       "      <td id=\"T_00b0e_row1_col0\" class=\"data row1 col0\" >0.863135</td>\n",
       "      <td id=\"T_00b0e_row1_col1\" class=\"data row1 col1\" >-5.153415</td>\n",
       "    </tr>\n",
       "  </tbody>\n",
       "</table>\n"
      ],
      "text/plain": [
       "<pandas.io.formats.style.Styler at 0x1f08a0a8fd0>"
      ]
     },
     "execution_count": 37,
     "metadata": {},
     "output_type": "execute_result"
    }
   ],
   "source": [
    "crss_val_tree = pd.DataFrame(cross_validate(tree2,data2.loc[:,features2],data2.loc[:,target],\n",
    "                                            scoring=['r2','neg_root_mean_squared_error'],cv=KFold(n_splits=10)))\n",
    "crss_val_tree.loc[:,[\"test_r2\",\"test_neg_root_mean_squared_error\"]].describe().loc[[\"std\",\"mean\"]].rename(\n",
    "    columns={\"test_r2\":\"R²\",\"test_neg_root_mean_squared_error\":\"RMSE\"}).style.set_caption(\n",
    "    \"Coeficientes Médios por Decision Tree\")"
   ]
  },
  {
   "cell_type": "code",
   "execution_count": 38,
   "metadata": {},
   "outputs": [
    {
     "data": {
      "text/html": [
       "<style type=\"text/css\">\n",
       "</style>\n",
       "<table id=\"T_e8f36_\">\n",
       "  <caption>Coeficientes Médios por Random Forest</caption>\n",
       "  <thead>\n",
       "    <tr>\n",
       "      <th class=\"blank level0\" >&nbsp;</th>\n",
       "      <th class=\"col_heading level0 col0\" >R²</th>\n",
       "      <th class=\"col_heading level0 col1\" >RMSE</th>\n",
       "    </tr>\n",
       "  </thead>\n",
       "  <tbody>\n",
       "    <tr>\n",
       "      <th id=\"T_e8f36_level0_row0\" class=\"row_heading level0 row0\" >std</th>\n",
       "      <td id=\"T_e8f36_row0_col0\" class=\"data row0 col0\" >0.017077</td>\n",
       "      <td id=\"T_e8f36_row0_col1\" class=\"data row0 col1\" >0.461729</td>\n",
       "    </tr>\n",
       "    <tr>\n",
       "      <th id=\"T_e8f36_level0_row1\" class=\"row_heading level0 row1\" >mean</th>\n",
       "      <td id=\"T_e8f36_row1_col0\" class=\"data row1 col0\" >0.864214</td>\n",
       "      <td id=\"T_e8f36_row1_col1\" class=\"data row1 col1\" >-5.133494</td>\n",
       "    </tr>\n",
       "  </tbody>\n",
       "</table>\n"
      ],
      "text/plain": [
       "<pandas.io.formats.style.Styler at 0x1f08a011070>"
      ]
     },
     "execution_count": 38,
     "metadata": {},
     "output_type": "execute_result"
    }
   ],
   "source": [
    "crss_val_forest = pd.DataFrame(cross_validate(forest2,data2.loc[:,features2],data2.loc[:,target],\n",
    "                                              scoring=['r2','neg_root_mean_squared_error'],cv=KFold(n_splits=10)))\n",
    "crss_val_forest.loc[:,[\"test_r2\",\"test_neg_root_mean_squared_error\"]].describe().loc[[\"std\",\"mean\"]].rename(\n",
    "    columns={\"test_r2\":\"R²\",\"test_neg_root_mean_squared_error\":\"RMSE\"}).style.set_caption(\n",
    "    \"Coeficientes Médios por Random Forest\")"
   ]
  },
  {
   "cell_type": "markdown",
   "metadata": {},
   "source": [
    "Através das análises realizadas ao longo do projeto e das múltiplas tentativas de prever a nota final dos alunos, foi possível prever, com relativa precisão, a nota final do aluno mesmo retirando do modelo qualquer informação sobre notas anteriores com um erro médio de ±5.13257 pontos, o que corresponde a um valor baixo em relação à escala de 0 a 100. Uma hipótese a ser testada neste relatório era que o ambiente escolar apresenta de fato uma forte influência no desempenho escolar dos alunos, o que é sugerido pelas regressões feitas.\n",
    "\n",
    "Em futuras iterações do modelo, seria interessante encontrar um dataset que tivesse informação de alunos globalmente, e não só de um país. É possível que o sistema de ensino de algum país seja mais dependente do ambiente do que outros, e ao analisar apenas um país, não é possível quantificar este potencial viés para confirmar ou rejeitar a hipótese. Ademais, testar modelos diferentes também seria uma melhoria a fazer para uma futura iteração, visto que foram empregados dois modelos similares e obtidos resultados similares entre si."
   ]
  },
  {
   "cell_type": "markdown",
   "metadata": {},
   "source": [
    "## Dataset no Kaggle\n",
    "* https://www.kaggle.com/kwadwoofosu/predict-test-scores-of-students\n",
    "\n",
    "## Referências Bibliográficas\n",
    "* https://gdcoder.com/decision-tree-regressor-explained-in-depth/\n",
    "* https://www.kdnuggets.com/2020/01/decision-tree-algorithm-explained.html\n",
    "* https://towardsdatascience.com/a-dive-into-decision-trees-a128923c9298\n",
    "* https://builtin.com/data-science/random-forest-algorithm\n",
    "* https://builtin.com/data-science/tour-top-10-algorithms-machine-learning-newbies\n",
    "* https://towardsdatascience.com/understanding-random-forest-58381e0602d2\n",
    "* https://ensinandomaquinasblog.wordpress.com/2017/12/15/modelos-preditivos-de-notas-de-redacao-do-enem-2015/\n",
    "* https://paulovasconcellos.com.br/como-saber-se-seu-modelo-de-machine-learning-est%C3%A1-funcionando-mesmo-a5892f6468b\n",
    "* https://scikit-learn.org/stable/modules/cross_validation.html"
   ]
  }
 ],
 "metadata": {
  "interpreter": {
   "hash": "4fe2fbbaa3d632aea2af0f5224be0b0a165cb775ebce5dff4c251c378569ad9d"
  },
  "kernelspec": {
   "display_name": "Python 3 (ipykernel)",
   "language": "python",
   "name": "python3"
  },
  "language_info": {
   "codemirror_mode": {
    "name": "ipython",
    "version": 3
   },
   "file_extension": ".py",
   "mimetype": "text/x-python",
   "name": "python",
   "nbconvert_exporter": "python",
   "pygments_lexer": "ipython3",
   "version": "3.8.12"
  }
 },
 "nbformat": 4,
 "nbformat_minor": 4
}
