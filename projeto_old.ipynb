{
 "cells": [
  {
   "cell_type": "code",
   "execution_count": null,
   "metadata": {},
   "outputs": [],
   "source": [
    "import pandas as pd\n",
    "import matplotlib.pyplot as plt\n",
    "import numpy as np\n",
    "import seaborn as sb\n",
    "import scipy.stats as stats\n",
    "\n",
    "from statsmodels.miscmodels.ordinal_model import OrderedModel"
   ]
  },
  {
   "cell_type": "markdown",
   "metadata": {},
   "source": [
    "# Depressão e Ansiedade"
   ]
  },
  {
   "cell_type": "markdown",
   "metadata": {},
   "source": [
    "Neste projeto, tentaremos partir das respostas das 42 perguntas de um questionário realizado com base no Taylor Manifest Anxiety Scape (TMAS), estas que estão armazenadas nas colunas Q e serão explicadas mais a frente, tentaremos prever a probabilidade de uma pessoa se identificar (e o grau com que se identifica) como \"ansiosa e facilmente desanimada\", onde nossa variável target é o valor atribuído ao TIPI 4 do resultado desse teste. O teste utilizado como base para esse modelo está disponível em https://openpsychometrics.org/tests/TMAS/.\n",
    "\n",
    "Para isso foi selecionado no Kaggle um datset no qual foram armazenadas as respostas as perguntas feitas aos usuário, assim como outras informações sobre eles, este que está disponível no link: https://www.kaggle.com/yamqwe/depression-anxiety-stress-scales. \n",
    "\n",
    "Para que seja possível entender o significado de suas colunas, foi disponibilizado no proprio Kaggle uma descrição completa sobre o dataset, este que está transcrito abaixo:\n",
    "\n",
    "The following items were included in the survey:"
   ]
  },
  {
   "cell_type": "raw",
   "metadata": {},
   "source": [
    "Q1 I found myself getting upset by quite trivial things.\n",
    "Q2 I was aware of dryness of my mouth.\n",
    "Q3 I couldn't seem to experience any positive feeling at all.\n",
    "Q4 I experienced breathing difficulty (eg, excessively rapid breathing, breathlessness in the absence of physical exertion).\n",
    "Q5 I just couldn't seem to get going.\n",
    "Q6 I tended to over-react to situations.\n",
    "Q7 I had a feeling of shakiness (eg, legs going to give way).\n",
    "Q8 I found it difficult to relax.\n",
    "Q9 I found myself in situations that made me so anxious I was most relieved when they ended.\n",
    "Q10 I felt that I had nothing to look forward to.\n",
    "Q11 I found myself getting upset rather easily.\n",
    "Q12 I felt that I was using a lot of nervous energy.\n",
    "Q13 I felt sad and depressed.\n",
    "Q14 I found myself getting impatient when I was delayed in any way (eg, elevators, traffic lights, being kept waiting).\n",
    "Q15 I had a feeling of faintness.\n",
    "Q16 I felt that I had lost interest in just about everything.\n",
    "Q17 I felt I wasn't worth much as a person.\n",
    "Q18 I felt that I was rather touchy.\n",
    "Q19 I perspired noticeably (eg, hands sweaty) in the absence of high temperatures or physical exertion.\n",
    "Q20 I felt scared without any good reason.\n",
    "Q21 I felt that life wasn't worthwhile.\n",
    "Q22 I found it hard to wind down.\n",
    "Q23 I had difficulty in swallowing.\n",
    "Q24 I couldn't seem to get any enjoyment out of the things I did.\n",
    "Q25 I was aware of the action of my heart in the absence of physical exertion (eg, sense of heart rate increase, heart missing a beat).\n",
    "Q26 I felt down-hearted and blue.\n",
    "Q27 I found that I was very irritable.\n",
    "Q28 I felt I was close to panic.\n",
    "Q29 I found it hard to calm down after something upset me.\n",
    "Q30 I feared that I would be \"thrown\" by some trivial but unfamiliar task.\n",
    "Q31 I was unable to become enthusiastic about anything.\n",
    "Q32 I found it difficult to tolerate interruptions to what I was doing.\n",
    "Q33 I was in a state of nervous tension.\n",
    "Q34 I felt I was pretty worthless.\n",
    "Q35 I was intolerant of anything that kept me from getting on with what I was doing.\n",
    "Q36 I felt terrified.\n",
    "Q37 I could see nothing in the future to be hopeful about.\n",
    "Q38 I felt that life was meaningless.\n",
    "Q39 I found myself getting agitated.\n",
    "Q40 I was worried about situations in which I might panic and make a fool of myself.\n",
    "Q41 I experienced trembling (eg, in the hands).\n",
    "Q42 I found it difficult to work up the initiative to do things.\n",
    "\n",
    "Each item was presented one at a time in a random order for each new participant along with a 4 point rating scale asking the user to indicate how often that had been true of them in the past week where\n",
    "\n",
    "1 = Did not apply to me at all\n",
    "2 = Applied to me to some degree, or some of the time\n",
    "3 = Applied to me to a considerable degree, or a good part of the time\n",
    "4 = Applied to me very much, or most of the time\n",
    "\n",
    "(see the file demo1.png for how this looked)\n",
    "\n",
    "This response is stored in variable A (e.g. Q1A). Also recorded was the time taken in milliseconds to answer that question (E) and that question's position in the survey (I).\n",
    "\n",
    "These other durations were also recorded (measured on the server's side):\n",
    "\n",
    "introelapse The time spent on the introduction/landing page (in seconds)\n",
    "testelapse The time spent on all the DASS questions (should be equivalent to the time elapsed on all the indiviudal questions combined)\n",
    "surveyelapse The time spent answering the rest of the demographic and survey questions\n",
    "\n",
    "On the next page was a generic demographics survey with many different questions.\n",
    "\n",
    "The Ten Item Personality Inventory was administered (see Gosling, S. D., Rentfrow, P. J., & Swann, W. B., Jr. (2003). A Very Brief Measure of the Big Five Personality Domains. Journal of Research in Personality, 37, 504-528.):\n",
    "\n",
    "TIPI1 Extraverted, enthusiastic.\n",
    "TIPI2 Critical, quarrelsome.\n",
    "TIPI3 Dependable, self-disciplined.\n",
    "TIPI4 Anxious, easily upset.\n",
    "TIPI5 Open to new experiences, complex.\n",
    "TIPI6 Reserved, quiet.\n",
    "TIPI7 Sympathetic, warm.\n",
    "TIPI8 Disorganized, careless.\n",
    "TIPI9 Calm, emotionally stable.\n",
    "TIPI10 Conventional, uncreative.\n",
    "\n",
    "The TIPI items were rated \"I see myself as:\" _ such that\n",
    "\n",
    "1 = Disagree strongly\n",
    "2 = Disagree moderately\n",
    "3 = Disagree a little\n",
    "4 = Neither agree nor disagree\n",
    "5 = Agree a little\n",
    "6 = Agree moderately\n",
    "7 = Agree strongly"
   ]
  },
  {
   "cell_type": "markdown",
   "metadata": {},
   "source": [
    "É importante ressaltar que como visto acima, apesar das respostas serem dadas em números estas ainda apresentam um estado qualitativo, portanto as analises do projeto serão realizadas tendo como base valores qualitativos que representam cada uma das respostas possíveis a cada uma das perguntas."
   ]
  },
  {
   "cell_type": "markdown",
   "metadata": {},
   "source": [
    "# Inserção do dataset, considerações inciais e limpezas"
   ]
  },
  {
   "cell_type": "markdown",
   "metadata": {},
   "source": [
    "Na célula abaixo, definimos a variável data, a qual corresponde ao dataset criado com os resultados das perguntas do teste feitas a usuários."
   ]
  },
  {
   "cell_type": "code",
   "execution_count": null,
   "metadata": {},
   "outputs": [],
   "source": [
    "raw_data = pd.read_csv(\"data.csv\",sep='\\t')\n",
    "raw_data.head()"
   ]
  },
  {
   "cell_type": "markdown",
   "metadata": {},
   "source": [
    "Para esse projeto foram consideradas desnecessárias as colunas QI e QE, uma vez que estas armazenam o número da questão e o tempo de resposta, estes que não forneceram a principio informações de relevância para análise e por isso forma removidas através do códico da célula abaixo.\n",
    "\n",
    "Com o objetivo de se ter maior confiabilidade dos dados, també foram foram filtradas respostas as quais partiam de um mesmo indeço IP, oque poderia indicar que a mesma pessoa poderia ter respondido dos vezes."
   ]
  },
  {
   "cell_type": "code",
   "execution_count": null,
   "metadata": {},
   "outputs": [],
   "source": [
    "tipis_l = [f'TIPI{i+1}' for i in range(10)]\n",
    "q_l = [f'Q{i+1}A' for i in range(42)]\n",
    "\n",
    "f_data = raw_data.loc[(raw_data.VCL6 == 0) & (raw_data.VCL9 == 0) & (raw_data.VCL12==0) & (raw_data.uniquenetworklocation==1),raw_data.columns.isin(tipis_l+q_l)]\n",
    "\n",
    "for tipi in tipis_l:\n",
    "    f_data = f_data.loc[~(f_data[tipi]==0),:]\n",
    "\n",
    "tipis_l = [f'TIPI{i+1}' for i in range(10)]\n",
    "\n",
    "for tipi in tipis_l:\n",
    "    f_data = f_data.loc[~(f_data[tipi]==0),:]\n",
    "    \n",
    "f_data.head()"
   ]
  },
  {
   "cell_type": "markdown",
   "metadata": {},
   "source": [
    "Na célula abaixo, com objetivo de melhor visualização forma alterados os valores numericos das repostas dos TIPI e das perguntas, para a qualidade a que se referem, estas que foram especificadas mais acima."
   ]
  },
  {
   "cell_type": "code",
   "execution_count": null,
   "metadata": {},
   "outputs": [],
   "source": [
    "data = f_data.copy() \n",
    "tipi_cat = {\n",
    "    1 : \"Disagree strongly\",\n",
    "    2 : \"Disagree moderately\",\n",
    "    3 : \"Disagree a little\",\n",
    "    4 : \"Neither agree nor disagree\",\n",
    "    5 : \"Agree a little\",\n",
    "    6 : \"Agree moderately\",\n",
    "    7 : \"Agree strongly\"\n",
    "}\n",
    "\n",
    "q_cat = {\n",
    "    1 : \"Did not apply to me at all\",\n",
    "    2 : \"Applied to me to some degree, or some of the time\",\n",
    "    3 : \"Applied to me to a considerable degree, or a good part of the time\",\n",
    "    4 : \"Applied to me very much, or most of the time\",\n",
    "}"
   ]
  },
  {
   "cell_type": "code",
   "execution_count": null,
   "metadata": {},
   "outputs": [],
   "source": [
    "for col in data.columns:\n",
    "    if not col.startswith('Q'):\n",
    "        data[col] = data[col].apply(lambda x: tipi_cat[x])\n",
    "        continue\n",
    "    data[col] = data[col].apply(lambda x: q_cat[x])\n",
    "for q in q_l:\n",
    "    data[q] = pd.Categorical(values=data[q],categories=q_cat.values(),ordered=True)\n",
    "for tipi in tipis_l:\n",
    "    data[tipi] = pd.Categorical(values=data[tipi],categories=tipi_cat.values(),ordered=True)"
   ]
  },
  {
   "cell_type": "markdown",
   "metadata": {},
   "source": [
    "Abaixo foi iniciada uma analise visual dos dados coletados. Para a primeira analise foi plotado um histograma correspondente ao TIPI4 e suas respostas:"
   ]
  },
  {
   "cell_type": "code",
   "execution_count": null,
   "metadata": {
    "scrolled": true
   },
   "outputs": [],
   "source": [
    "plt.figure(figsize=(20,8))\n",
    "plt.title('TIPI4 distribuição das respostas')\n",
    "plt.xlabel('Possiveis respostas')\n",
    "plt.ylabel('quantidade de respostas')\n",
    "f_data.TIPI4.hist()\n",
    "plt.show()\n",
    "plt.savefig('graf1.png')"
   ]
  },
  {
   "cell_type": "markdown",
   "metadata": {},
   "source": [
    "Para a primeira analise foi plotado um histograma correspondente as perguntas Q e suas respostas."
   ]
  },
  {
   "cell_type": "code",
   "execution_count": null,
   "metadata": {
    "scrolled": true
   },
   "outputs": [],
   "source": [
    "plt.figure(figsize=(60,30))\n",
    "for i,q in enumerate(q_l):\n",
    "    plt.subplot(11,4,i+1)\n",
    "    f_data[q].hist()\n",
    "plt.show()\n",
    "plt.savefig('graf2.png')"
   ]
  },
  {
   "cell_type": "markdown",
   "metadata": {},
   "source": [
    "Através do plot realizado acima, é possivel perceber que as respostas tendem a não ser extremamente divididas, apresentando quantidades semelhantes de respostas para cada possibilidade.\n",
    "\n",
    "Para a primeira analise foi plotado um histograma correspondente aos TIPI e suas respostas."
   ]
  },
  {
   "cell_type": "code",
   "execution_count": null,
   "metadata": {
    "scrolled": true
   },
   "outputs": [],
   "source": [
    "plt.figure(figsize=(35,35))\n",
    "for i,tipi in enumerate(tipis_l):\n",
    "    plt.subplot(5,2,i+1)\n",
    "    data[tipi].hist()\n",
    "plt.show()\n",
    "plt.savefig('graf3.png')"
   ]
  },
  {
   "cell_type": "markdown",
   "metadata": {},
   "source": [
    "Através do gráfico acima foi possível perceber que ao longo dos TIPI é mais provável que a distribuição das respostas esteja mais divida entre as possíveis respostas, não apresentando evidencias de alta concentração em certos valores de resposta.\n",
    "\n",
    "Abaixo foi traçado um Spider Graph das repostas de autoidentificação das pessoas quanto aos TIPIs, de maneira a estimar como poderíamos esperar que nosso algoritmo responda. Usando os 3 quartis dos nossos dados, em azul há o quartil inferior, em laranja há a média, e em rosa há o quartil superior dos dados."
   ]
  },
  {
   "cell_type": "code",
   "execution_count": null,
   "metadata": {},
   "outputs": [],
   "source": [
    "categories = ['Extraverted, enthusiastic', 'Critical, quarrelsome','Dependable, self-disciplined', 'Anxious, easily upset', 'Open to new experiences, complex', 'Reserved, quiet', 'Sympathetic, warm',\n",
    "              'Disorganized, careless', 'Calm, emotionally stable', 'Conventional, uncreative', '']\n",
    "\n",
    "q1 = [np.quantile(f_data.TIPI1, .25), np.quantile(f_data.TIPI2, .25), np.quantile(f_data.TIPI3, .25), np.quantile(f_data.TIPI4, .25), np.quantile(f_data.TIPI5, .25), np.quantile(f_data.TIPI6, .25),\n",
    "      np.quantile(f_data.TIPI7, .25), np.quantile(f_data.TIPI8, .25), np.quantile(f_data.TIPI9, .25), np.quantile(f_data.TIPI10, .25), np.quantile(f_data.TIPI10, .25)]\n",
    "\n",
    "q2 = [np.quantile(f_data.TIPI1, .5), np.quantile(f_data.TIPI2, .5), np.quantile(f_data.TIPI3, .5), np.quantile(f_data.TIPI4, .5), np.quantile(f_data.TIPI5, .5), np.quantile(f_data.TIPI6, .5), \n",
    "      np.quantile(f_data.TIPI7, .5), np.quantile(f_data.TIPI8, .5), np.quantile(f_data.TIPI9, .5), np.quantile(f_data.TIPI10, .5), np.quantile(f_data.TIPI10, .5)]\n",
    "\n",
    "q3 = [np.quantile(f_data.TIPI1, .75), np.quantile(f_data.TIPI2, .75), np.quantile(f_data.TIPI3, .75), np.quantile(f_data.TIPI4, .75), np.quantile(f_data.TIPI5, .75), np.quantile(f_data.TIPI6, .75),\n",
    "      np.quantile(f_data.TIPI7, .75), np.quantile(f_data.TIPI8, .75), np.quantile(f_data.TIPI10, .75), np.quantile(f_data.TIPI10, .75), np.quantile(f_data.TIPI9, .75)]"
   ]
  },
  {
   "cell_type": "code",
   "execution_count": null,
   "metadata": {},
   "outputs": [],
   "source": [
    "label_loc = np.linspace(start=0, stop=2 * np.pi, num=11)\n",
    "\n",
    "plt.figure(figsize=(8, 8))\n",
    "plt.subplot(polar=True)\n",
    "#for d in range(len(f_data)):\n",
    "#    plt.plot(label_loc, [f_data[f'TIPI{i+1}'] for i in range(10)], label='', alpha=0.0003, color='magenta')\n",
    "#    '''caso a gente tivesse um pc muito louco e quisesse plottar todos os resultados'''\n",
    "\n",
    "plt.plot(label_loc, q1, label='Quartil 1', alpha=1, color='blue')\n",
    "plt.plot(label_loc, q2, label='Mediana', alpha=1, color='orange')\n",
    "plt.plot(label_loc, q3, label='Quartil 3', alpha=1, color='magenta')\n",
    "\n",
    "plt.title('TIPIs Médios', size=20)\n",
    "lines, labels = plt.thetagrids(np.degrees(label_loc), labels=categories)\n",
    "plt.legend()\n",
    "\n",
    "plt.show()\n",
    "plt.savefig('spider.png')"
   ]
  },
  {
   "cell_type": "markdown",
   "metadata": {},
   "source": [
    "A partir do gráfico, podemos concluir então que a maioria dos TIPIs têm um índice médio de resposta entre 4 e 5, o que indica que os participantes ou não identificam tal característica nas suas personalidades ou concordam parcialmente. As exceções são os TIPI4 e TIPI7, que ambos têm média 6. Esperamos obter ao final resultados que condizam com esse resultado, especialmente do TIPI4. "
   ]
  },
  {
   "cell_type": "code",
   "execution_count": null,
   "metadata": {},
   "outputs": [],
   "source": [
    "f_data = f_data.astype(\"int64\")\n",
    "tipis = f_data.filter(like=\"TIPI\")\n",
    "questions = f_data.filter(like=\"Q\")\n",
    "cor_dict = {}\n",
    "for tipi in tipis.columns:\n",
    "    for question in questions.columns:\n",
    "        cor_dict[tipi] = cor_dict.get(tipi,[]) + [tipis[tipi].corr(questions[question])]\n",
    "       \n",
    "cor_table = pd.DataFrame(cor_dict)\n",
    "cor_table.index = q_l\n",
    "cor_table.head(3)"
   ]
  },
  {
   "cell_type": "code",
   "execution_count": null,
   "metadata": {},
   "outputs": [],
   "source": [
    "plt.figure(figsize=(30, 50))\n",
    "sb.heatmap(cor_table, vmax = 0.999, cmap = \"RdYlBu\", center = 0, annot = True, annot_kws = {\"size\":12}, linewidths = .05, linecolor = 'grey', cbar = True, cbar_kws = {\"shrink\":.5}, square = True, mask = False)\n",
    "plt.title('Correlograma usando o método de Pearson', fontsize=16, fontfamily='serif')\n",
    "plt.xticks(rotation = 45, size = 10)\n",
    "plt.yticks(rotation = 0, size = 10)\n",
    "plt.show()\n",
    "plt.savefig('correlograma.png')"
   ]
  },
  {
   "cell_type": "code",
   "execution_count": null,
   "metadata": {},
   "outputs": [],
   "source": [
    "plt.figure(figsize=(30, 50))\n",
    "sb.heatmap(cor_table.apply(lambda x: abs(x)), vmax = 0.999, cmap = \"RdYlBu\", center = 0, annot = True, annot_kws = {\"size\":12}, linewidths = .05, linecolor = 'grey', cbar = True, cbar_kws = {\"shrink\":.5}, square = True, mask = False)\n",
    "\n",
    "plt.title('Correlograma usando o método de Pearson', fontsize=16, fontfamily='serif')\n",
    "plt.xticks(rotation = 45, size = 10)\n",
    "plt.yticks(rotation = 0, size = 10)\n",
    "plt.show()\n",
    "\n",
    "plt.savefig('correlograma_modulo.png')"
   ]
  },
  {
   "cell_type": "markdown",
   "metadata": {},
   "source": [
    "# Regressão Ordinal"
   ]
  },
  {
   "cell_type": "code",
   "execution_count": null,
   "metadata": {},
   "outputs": [],
   "source": [
    "for i,q_corrs in cor_table.iterrows():\n",
    "    if q_corrs[\"TIPI4\"] < 0.4:\n",
    "        data = data.drop(columns=[i])\n",
    "\n",
    "data.head(3)"
   ]
  },
  {
   "cell_type": "code",
   "execution_count": null,
   "metadata": {},
   "outputs": [],
   "source": [
    "mod_prob = OrderedModel(data['TIPI4'], f_data.loc[:,f_data.columns.isin(q_l)], distr='probit')\n",
    "\n",
    "res_prob = mod_prob.fit(method='bfgs')\n",
    "res_prob.summary()"
   ]
  },
  {
   "cell_type": "code",
   "execution_count": null,
   "metadata": {},
   "outputs": [],
   "source": [
    "data.dtypes"
   ]
  },
  {
   "cell_type": "markdown",
   "metadata": {},
   "source": [
    "# Análise Descritiva 2: Electric Boogaloo"
   ]
  },
  {
   "cell_type": "code",
   "execution_count": null,
   "metadata": {},
   "outputs": [],
   "source": [
    "sb.pairplot(f_data, height=1.5);"
   ]
  }
 ],
 "metadata": {
  "kernelspec": {
   "display_name": "Python 3",
   "language": "python",
   "name": "python3"
  },
  "language_info": {
   "codemirror_mode": {
    "name": "ipython",
    "version": 3
   },
   "file_extension": ".py",
   "mimetype": "text/x-python",
   "name": "python",
   "nbconvert_exporter": "python",
   "pygments_lexer": "ipython3",
   "version": "3.7.6"
  }
 },
 "nbformat": 4,
 "nbformat_minor": 4
}
